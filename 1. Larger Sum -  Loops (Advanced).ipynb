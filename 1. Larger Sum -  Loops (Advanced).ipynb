{
 "cells": [
  {
   "cell_type": "code",
   "execution_count": null,
   "id": "4c6e83f1",
   "metadata": {},
   "outputs": [],
   "source": [
    "We are going to start our advanced challenge problems by calculating which list of two inputs has the larger sum. We will \n",
    "iterate through each of the list and calculate the sums, afterwards we will compare the two and return which one has a greater \n",
    "sum. Here are the steps we need:\n",
    "\n",
    "1. Define the function to accept two input parameters: lst1 and lst2\n",
    "2. Create two variables to record the two sums\n",
    "3. Loop through the first list and add up all of the numbers\n",
    "4. Loop through the second list and add up all of the numbers\n",
    "5. Compare the first and second sum and return the list with the greater sum"
   ]
  },
  {
   "cell_type": "code",
   "execution_count": null,
   "id": "45e7b6e1",
   "metadata": {},
   "outputs": [],
   "source": [
    "Create a function named larger_sum() that takes two lists of numbers as parameters named lst1 and lst2.\n",
    "\n",
    "The function should return the list whose elements sum to the greater number. If the sum of the elements of each list are \n",
    "equal, return lst1."
   ]
  },
  {
   "cell_type": "code",
   "execution_count": 1,
   "id": "76fcac7c",
   "metadata": {},
   "outputs": [
    {
     "name": "stdout",
     "output_type": "stream",
     "text": [
      "[1, 9, 5]\n"
     ]
    }
   ],
   "source": [
    "def larger_sum(lst1, lst2):\n",
    "  sum1 = 0\n",
    "  sum2 = 0\n",
    "  for number in lst1:\n",
    "    sum1 += number\n",
    "  for number in lst2:\n",
    "    sum2 += number\n",
    "  if sum1 >= sum2:\n",
    "    return lst1\n",
    "  else: \n",
    "    return lst2\n",
    "\n",
    "print(larger_sum([1, 9, 5], [2, 3, 7]))"
   ]
  },
  {
   "cell_type": "code",
   "execution_count": null,
   "id": "ed154f8a",
   "metadata": {},
   "outputs": [],
   "source": []
  }
 ],
 "metadata": {
  "kernelspec": {
   "display_name": "Python 3 (ipykernel)",
   "language": "python",
   "name": "python3"
  },
  "language_info": {
   "codemirror_mode": {
    "name": "ipython",
    "version": 3
   },
   "file_extension": ".py",
   "mimetype": "text/x-python",
   "name": "python",
   "nbconvert_exporter": "python",
   "pygments_lexer": "ipython3",
   "version": "3.9.12"
  }
 },
 "nbformat": 4,
 "nbformat_minor": 5
}
