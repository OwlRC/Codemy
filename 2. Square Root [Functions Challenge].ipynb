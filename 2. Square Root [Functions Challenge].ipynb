{
 "cells": [
  {
   "cell_type": "code",
   "execution_count": null,
   "id": "6115811f",
   "metadata": {},
   "outputs": [],
   "source": [
    "Another useful function for solving math problems is the square root function. We can create this using similar steps from the\n",
    "last problem. The code will look very similar. We need to:\n",
    "\n",
    "1. Set up the function header for square_root which accepts one parameter\n",
    "2. Take the square root of the input value\n",
    "3. Return the result"
   ]
  },
  {
   "cell_type": "code",
   "execution_count": null,
   "id": "0b71b9d5",
   "metadata": {},
   "outputs": [],
   "source": [
    "Write a function named square_root() that has one parameter named num.\n",
    "\n",
    "Use exponents (**) to return the square root of num."
   ]
  },
  {
   "cell_type": "code",
   "execution_count": 2,
   "id": "3eab013c",
   "metadata": {},
   "outputs": [
    {
     "name": "stdout",
     "output_type": "stream",
     "text": [
      "4.0\n",
      "10.0\n"
     ]
    }
   ],
   "source": [
    "def square_root(num):\n",
    "  return num ** 0.5\n",
    "\n",
    "print(square_root(16))\n",
    "# should print 4\n",
    "print(square_root(100))\n",
    "# should print 10"
   ]
  },
  {
   "cell_type": "code",
   "execution_count": null,
   "id": "8301ba3f",
   "metadata": {},
   "outputs": [],
   "source": []
  }
 ],
 "metadata": {
  "kernelspec": {
   "display_name": "Python 3 (ipykernel)",
   "language": "python",
   "name": "python3"
  },
  "language_info": {
   "codemirror_mode": {
    "name": "ipython",
    "version": 3
   },
   "file_extension": ".py",
   "mimetype": "text/x-python",
   "name": "python",
   "nbconvert_exporter": "python",
   "pygments_lexer": "ipython3",
   "version": "3.9.12"
  }
 },
 "nbformat": 4,
 "nbformat_minor": 5
}
