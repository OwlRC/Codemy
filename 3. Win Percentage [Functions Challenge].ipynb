{
 "cells": [
  {
   "cell_type": "code",
   "execution_count": null,
   "id": "96fb0a55",
   "metadata": {},
   "outputs": [],
   "source": [
    "Next, we will create a function which calculates the percentage of games won. In order to do this, we will need to know how \n",
    "many total games there were and divide the number of wins by the total number of games. For this function, there will be two \n",
    "input parameters, the number of wins and the number of losses. We also need to make sure that we return the result as a\n",
    "percentage (in the range of 0 to 100). In order to create this method we need the following steps:\n",
    "\n",
    "1. Define the function header with two parameters, wins and losses\n",
    "2. Calculate the total number of games using the number of wins and losses\n",
    "3. Get the ratio of winning using the number of wins out of the total number of games.\n",
    "4. Convert the ratio to a percentage\n",
    "5. Return the percentage"
   ]
  },
  {
   "cell_type": "code",
   "execution_count": null,
   "id": "78007d62",
   "metadata": {},
   "outputs": [],
   "source": [
    "Create a function called win_percentage() that takes two parameters named wins and losses.\n",
    "\n",
    "This function should return out the total percentage of games won by a team based on these two numbers."
   ]
  },
  {
   "cell_type": "code",
   "execution_count": 3,
   "id": "9e8785b9",
   "metadata": {},
   "outputs": [
    {
     "name": "stdout",
     "output_type": "stream",
     "text": [
      "50.0\n",
      "100.0\n"
     ]
    }
   ],
   "source": [
    "def win_percentage(wins, losses):\n",
    "    total_games = wins + losses\n",
    "    ratio_won = wins / total_games\n",
    "    return ratio_won * 100\n",
    "\n",
    "print(win_percentage(5, 5))\n",
    "# should print 50\n",
    "print(win_percentage(10, 0))\n",
    "# should print 100"
   ]
  },
  {
   "cell_type": "code",
   "execution_count": null,
   "id": "0c4e4695",
   "metadata": {},
   "outputs": [],
   "source": []
  }
 ],
 "metadata": {
  "kernelspec": {
   "display_name": "Python 3 (ipykernel)",
   "language": "python",
   "name": "python3"
  },
  "language_info": {
   "codemirror_mode": {
    "name": "ipython",
    "version": 3
   },
   "file_extension": ".py",
   "mimetype": "text/x-python",
   "name": "python",
   "nbconvert_exporter": "python",
   "pygments_lexer": "ipython3",
   "version": "3.9.12"
  }
 },
 "nbformat": 4,
 "nbformat_minor": 5
}
