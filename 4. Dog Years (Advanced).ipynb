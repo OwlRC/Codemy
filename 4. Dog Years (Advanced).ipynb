{
 "cells": [
  {
   "cell_type": "code",
   "execution_count": null,
   "id": "aa8a0793",
   "metadata": {},
   "outputs": [],
   "source": [
    "Let’s create a function which calculates a dog’s age in dog years! This function will accept the name of the dog and the age in \n",
    "human years. It will calculate the age of the dog in dog years and return a string describing the dog’s age. This will require \n",
    "a few steps:\n",
    "\n",
    "1. Define the function called dog_years to accept two parameters: name and age\n",
    "2. Calculate the age of the dog in dog years\n",
    "3. Concatenate the string with the dog’s name and age in dog years\n",
    "4. Return the resulting string"
   ]
  },
  {
   "cell_type": "code",
   "execution_count": null,
   "id": "fcdd5a13",
   "metadata": {},
   "outputs": [],
   "source": [
    "Some say that every one year of a human’s life is equivalent to seven years of a dog’s life. Write a function named dog_years()\n",
    "that has two parameters named name and age.\n",
    "\n",
    "The function should compute the age in dog years and return the following string:\n",
    "\"{name}, you are {age} years old in dog years\"\n",
    "\n",
    "Test this function with your name and your age!"
   ]
  },
  {
   "cell_type": "code",
   "execution_count": 13,
   "id": "2171b110",
   "metadata": {},
   "outputs": [
    {
     "name": "stdout",
     "output_type": "stream",
     "text": [
      "Lola, you are 112 years old in dog years\n",
      "Baby, you are 0 years old in dog years\n"
     ]
    }
   ],
   "source": [
    "def dog_years(name, age):\n",
    "  return name + \", you are \" + str(age * 7) + \" years old in dog years\"\n",
    "\n",
    "print(dog_years(\"Lola\", 16))\n",
    "# should print \"Lola, you are 112 years old in dog years\"\n",
    "print(dog_years(\"Baby\", 0))\n",
    "# should print \"Baby, you are 0 years old in dog years\""
   ]
  },
  {
   "cell_type": "code",
   "execution_count": null,
   "id": "c0f9a3c1",
   "metadata": {},
   "outputs": [],
   "source": []
  }
 ],
 "metadata": {
  "kernelspec": {
   "display_name": "Python 3 (ipykernel)",
   "language": "python",
   "name": "python3"
  },
  "language_info": {
   "codemirror_mode": {
    "name": "ipython",
    "version": 3
   },
   "file_extension": ".py",
   "mimetype": "text/x-python",
   "name": "python",
   "nbconvert_exporter": "python",
   "pygments_lexer": "ipython3",
   "version": "3.9.12"
  }
 },
 "nbformat": 4,
 "nbformat_minor": 5
}
