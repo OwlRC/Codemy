{
 "cells": [
  {
   "cell_type": "code",
   "execution_count": null,
   "id": "b332f1a6",
   "metadata": {},
   "outputs": [],
   "source": [
    "You are invited to a social gathering, but you are tired of greeting everyone there. Luckily we can create a function to \n",
    "accomplish this task for us. In this challenge, we will take a list of names and prepend the string 'Hello, ' before each name.\n",
    "This will require a few steps:\n",
    "\n",
    "1. Define the function to accept a list of strings as a single parameter called names\n",
    "2. Create a new list of strings\n",
    "3. Loop through each name in names\n",
    "4. Within the loop, concatenate 'Hello, ' and the current name together and append this new string to the new list of strings\n",
    "5. Afterwards, return the new list of strings"
   ]
  },
  {
   "cell_type": "code",
   "execution_count": null,
   "id": "00bfbac1",
   "metadata": {},
   "outputs": [],
   "source": [
    "Create a function named add_greetings() which takes a list of strings named names as a parameter.\n",
    "\n",
    "In the function, create an empty list that will contain each greeting. Add the string 'Hello, ' in front of each name in names\n",
    "and append the greeting to the list.\n",
    "\n",
    "Return the new list containing the greetings."
   ]
  },
  {
   "cell_type": "code",
   "execution_count": 10,
   "id": "8f0cf247",
   "metadata": {},
   "outputs": [
    {
     "name": "stdout",
     "output_type": "stream",
     "text": [
      "['Hello, Owen', 'Hello, Max', 'Hello, Sophie']\n"
     ]
    }
   ],
   "source": [
    "def add_greetings(names):\n",
    "    new_list = []\n",
    "    for name in names:\n",
    "        new_list.append(\"Hello, \" + name)\n",
    "    return new_list    \n",
    "    \n",
    "print(add_greetings([\"Owen\", \"Max\", \"Sophie\"]))"
   ]
  },
  {
   "cell_type": "code",
   "execution_count": null,
   "id": "698850e5",
   "metadata": {},
   "outputs": [],
   "source": []
  }
 ],
 "metadata": {
  "kernelspec": {
   "display_name": "Python 3 (ipykernel)",
   "language": "python",
   "name": "python3"
  },
  "language_info": {
   "codemirror_mode": {
    "name": "ipython",
    "version": 3
   },
   "file_extension": ".py",
   "mimetype": "text/x-python",
   "name": "python",
   "nbconvert_exporter": "python",
   "pygments_lexer": "ipython3",
   "version": "3.9.12"
  }
 },
 "nbformat": 4,
 "nbformat_minor": 5
}
