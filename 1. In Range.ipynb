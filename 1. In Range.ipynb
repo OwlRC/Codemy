{
 "cells": [
  {
   "cell_type": "code",
   "execution_count": null,
   "id": "9628b298",
   "metadata": {},
   "outputs": [],
   "source": [
    "Let’s start the advanced challenge problems by testing if a number falls within a certain range. We will accept three parameters\n",
    "where the first parameter is the number we are testing, the second parameter is the lower bound and the third parameter is the\n",
    "upper bound of our range. These are the steps required:\n",
    "\n",
    "1. Define the function to accept three numbers as parameters\n",
    "2. Test if the number is greater than or equal to the lower bound and less than or equal to the upper bound\n",
    "3. If this is true, return True, otherwise, return False"
   ]
  },
  {
   "cell_type": "code",
   "execution_count": 1,
   "id": "9d7f914f",
   "metadata": {},
   "outputs": [
    {
     "name": "stdout",
     "output_type": "stream",
     "text": [
      "True\n",
      "False\n"
     ]
    }
   ],
   "source": [
    "def in_range(num, lower, upper):\n",
    "  if(num >= lower and num <= upper):\n",
    "    return True\n",
    "  else:\n",
    "    return False\n",
    "\n",
    "print(in_range(10, 10, 10))\n",
    "\n",
    "print(in_range(5, 10, 20))"
   ]
  },
  {
   "cell_type": "code",
   "execution_count": null,
   "id": "520eaa0d",
   "metadata": {},
   "outputs": [],
   "source": []
  }
 ],
 "metadata": {
  "kernelspec": {
   "display_name": "Python 3 (ipykernel)",
   "language": "python",
   "name": "python3"
  },
  "language_info": {
   "codemirror_mode": {
    "name": "ipython",
    "version": 3
   },
   "file_extension": ".py",
   "mimetype": "text/x-python",
   "name": "python",
   "nbconvert_exporter": "python",
   "pygments_lexer": "ipython3",
   "version": "3.9.12"
  }
 },
 "nbformat": 4,
 "nbformat_minor": 5
}
