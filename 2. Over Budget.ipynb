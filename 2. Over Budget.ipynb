{
 "cells": [
  {
   "cell_type": "code",
   "execution_count": null,
   "id": "30fb29b5",
   "metadata": {},
   "outputs": [],
   "source": [
    "2. Over Budget\n",
    "Let’s say we are trying to save some money and we are watching our budget. We need to make sure that the result of our spending\n",
    "is less than the total amount we have allocated for each of the categories. Our function will accept a parameter called budget \n",
    "which describes our spending limit. The next four parameters describe what we are spending our money on. We need to sum all of \n",
    "our spendings and compare it to the budget. If we have gone over budget, we will return True. Otherwise we return False. \n",
    "Here are the steps we need:\n",
    "\n",
    "1. Define the function to accept five parameters starting with budget then food_bill, electricity_bill, internet_bill, and rent\n",
    "2. Calculate the sum of the last four parameters\n",
    "3. Use if and else statements to test if the budget is less than the sum of the calculated sum from the previous step.\n",
    "4. If the condition is true, return True otherwise return False"
   ]
  },
  {
   "cell_type": "code",
   "execution_count": 1,
   "id": "6f746299",
   "metadata": {},
   "outputs": [
    {
     "name": "stdout",
     "output_type": "stream",
     "text": [
      "False\n",
      "True\n"
     ]
    }
   ],
   "source": [
    "def over_budget(budget, food_bill, electricity_bill, internet_bill, rent):\n",
    "  if (budget < food_bill + electricity_bill + internet_bill + rent):\n",
    "    return True\n",
    "  else:\n",
    "    return False\n",
    "    \n",
    "print(over_budget(100, 20, 30, 10, 40))\n",
    "\n",
    "print(over_budget(80, 20, 30, 10, 30))"
   ]
  },
  {
   "cell_type": "code",
   "execution_count": null,
   "id": "5ba2f9a4",
   "metadata": {},
   "outputs": [],
   "source": []
  }
 ],
 "metadata": {
  "kernelspec": {
   "display_name": "Python 3 (ipykernel)",
   "language": "python",
   "name": "python3"
  },
  "language_info": {
   "codemirror_mode": {
    "name": "ipython",
    "version": 3
   },
   "file_extension": ".py",
   "mimetype": "text/x-python",
   "name": "python",
   "nbconvert_exporter": "python",
   "pygments_lexer": "ipython3",
   "version": "3.9.12"
  }
 },
 "nbformat": 4,
 "nbformat_minor": 5
}
