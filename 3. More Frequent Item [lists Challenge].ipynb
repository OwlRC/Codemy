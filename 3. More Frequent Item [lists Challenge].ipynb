{
 "cells": [
  {
   "cell_type": "code",
   "execution_count": null,
   "id": "c5f6968c",
   "metadata": {},
   "outputs": [],
   "source": [
    "Let’s go back to our factory example. We have a conveyor belt of items where each item is represented by a different number. We \n",
    "want to know, out of two items, which one shows up more on our belt. To solve this, we can use a function with three parameters.\n",
    "One parameter for the list of items, another for the first item we are comparing, and another for the second item. Here are the\n",
    "steps:\n",
    "\n",
    "1. Define the function to accept three parameters: the list, the first item, and the second item\n",
    "2. Count the number of times item1 shows up in our list\n",
    "3. Count the number of times item2 shows up in our list\n",
    "4. If item1 shows up more, return item1. Otherwise, return item2"
   ]
  },
  {
   "cell_type": "code",
   "execution_count": null,
   "id": "cd026fc9",
   "metadata": {},
   "outputs": [],
   "source": [
    "Create a function named more_frequent_item that has three parameters named lst, item1, and item2.\n",
    "\n",
    "Return either item1 or item2 depending on which item appears more often in lst.\n",
    "\n",
    "If the two items appear the same number of times, return item1."
   ]
  },
  {
   "cell_type": "code",
   "execution_count": 4,
   "id": "b8864723",
   "metadata": {},
   "outputs": [
    {
     "name": "stdout",
     "output_type": "stream",
     "text": [
      "3\n"
     ]
    }
   ],
   "source": [
    "def more_frequent_item(lst, item1, item2):\n",
    "    if lst.count(item1) >= lst.count(item2):\n",
    "        return item1\n",
    "    else:\n",
    "        return item2\n",
    "    \n",
    "print(more_frequent_item([2, 3, 3, 2, 3, 2, 3, 2, 3], 2, 3))"
   ]
  },
  {
   "cell_type": "code",
   "execution_count": null,
   "id": "6c8feb22",
   "metadata": {},
   "outputs": [],
   "source": []
  }
 ],
 "metadata": {
  "kernelspec": {
   "display_name": "Python 3 (ipykernel)",
   "language": "python",
   "name": "python3"
  },
  "language_info": {
   "codemirror_mode": {
    "name": "ipython",
    "version": 3
   },
   "file_extension": ".py",
   "mimetype": "text/x-python",
   "name": "python",
   "nbconvert_exporter": "python",
   "pygments_lexer": "ipython3",
   "version": "3.9.12"
  }
 },
 "nbformat": 4,
 "nbformat_minor": 5
}
