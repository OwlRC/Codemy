{
 "cells": [
  {
   "cell_type": "code",
   "execution_count": null,
   "id": "3afa17bf",
   "metadata": {},
   "outputs": [],
   "source": [
    "Here is a more traditional coding problem for you. This function will be used to find the maximum number in a list of numbers. \n",
    "This can be accomplished using the max() function in python, but as a challenge, we are going to manually implement this \n",
    "function. Here is what we need to do:\n",
    "\n",
    "1. Define the function to accept a list of numbers called nums\n",
    "2. Set our default maximum value to be the first element in the list\n",
    "3. Loop through every number in the list of numbers\n",
    "4. Within the loop, if we find a number greater than our starting maximum, then replace the maximum with what we found.\n",
    "5. Return the maximum number"
   ]
  },
  {
   "cell_type": "code",
   "execution_count": null,
   "id": "1e001cb0",
   "metadata": {},
   "outputs": [],
   "source": [
    "Create a function named max_num() that takes a list of numbers named nums as a parameter.\n",
    "\n",
    "The function should return the largest number in nums"
   ]
  },
  {
   "cell_type": "code",
   "execution_count": 3,
   "id": "4993abd5",
   "metadata": {},
   "outputs": [
    {
     "name": "stdout",
     "output_type": "stream",
     "text": [
      "75\n"
     ]
    }
   ],
   "source": [
    "def max_num(nums):\n",
    "    maximum = nums[0]\n",
    "    for number in nums:\n",
    "        if number > maximum:\n",
    "            maximum = number\n",
    "    return maximum\n",
    "\n",
    "\n",
    "print(max_num([50, -10, 0, 75, 20]))    "
   ]
  },
  {
   "cell_type": "code",
   "execution_count": null,
   "id": "c578b34e",
   "metadata": {},
   "outputs": [],
   "source": []
  }
 ],
 "metadata": {
  "kernelspec": {
   "display_name": "Python 3 (ipykernel)",
   "language": "python",
   "name": "python3"
  },
  "language_info": {
   "codemirror_mode": {
    "name": "ipython",
    "version": 3
   },
   "file_extension": ".py",
   "mimetype": "text/x-python",
   "name": "python",
   "nbconvert_exporter": "python",
   "pygments_lexer": "ipython3",
   "version": "3.9.12"
  }
 },
 "nbformat": 4,
 "nbformat_minor": 5
}
