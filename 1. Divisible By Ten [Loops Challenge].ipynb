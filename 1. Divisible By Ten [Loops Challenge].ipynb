{
 "cells": [
  {
   "cell_type": "code",
   "execution_count": null,
   "id": "f231870f",
   "metadata": {},
   "outputs": [],
   "source": [
    "Let’s start our code challenges with a function that counts how many numbers are divisible by ten from a list of numbers. This\n",
    "function will accept a list of numbers as an input parameter and use a loop to check each of the numbers in the list. Every \n",
    "time a number is divisible by 10, a counter will be incremented and the final count will be returned. These are the steps we \n",
    "need to complete this:\n",
    "\n",
    "1. Define the function to accept one input parameter called nums\n",
    "2. Initialize a counter to 0\n",
    "3. Loop through every number in nums\n",
    "4. Within the loop, if any of the numbers are divisible by 10, increment our counter\n",
    "5. Return the final counter value"
   ]
  },
  {
   "cell_type": "code",
   "execution_count": null,
   "id": "234069dd",
   "metadata": {},
   "outputs": [],
   "source": [
    "Create a function named divisible_by_ten() that takes a list of numbers named nums as a parameter.\n",
    "\n",
    "Return the count of how many numbers in the list are divisible by 10."
   ]
  },
  {
   "cell_type": "code",
   "execution_count": 9,
   "id": "263c766d",
   "metadata": {},
   "outputs": [
    {
     "name": "stdout",
     "output_type": "stream",
     "text": [
      "3\n"
     ]
    }
   ],
   "source": [
    "def divisible_by_ten(nums):\n",
    "    count = 0\n",
    "    for number in nums:\n",
    "        if (number % 10 == 0):\n",
    "            count += 1\n",
    "    return count\n",
    "\n",
    "print(divisible_by_ten([20, 25, 30, 35, 40]))"
   ]
  },
  {
   "cell_type": "code",
   "execution_count": null,
   "id": "d758c950",
   "metadata": {},
   "outputs": [],
   "source": []
  }
 ],
 "metadata": {
  "kernelspec": {
   "display_name": "Python 3 (ipykernel)",
   "language": "python",
   "name": "python3"
  },
  "language_info": {
   "codemirror_mode": {
    "name": "ipython",
    "version": 3
   },
   "file_extension": ".py",
   "mimetype": "text/x-python",
   "name": "python",
   "nbconvert_exporter": "python",
   "pygments_lexer": "ipython3",
   "version": "3.9.12"
  }
 },
 "nbformat": 4,
 "nbformat_minor": 5
}
