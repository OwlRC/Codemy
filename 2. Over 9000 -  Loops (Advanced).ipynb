{
 "cells": [
  {
   "cell_type": "code",
   "execution_count": null,
   "id": "ab5870ac",
   "metadata": {},
   "outputs": [],
   "source": [
    "We are constructing a device that is able to measure the power level of our coding abilities and according to the device, it \n",
    "will be impossible for our power levels to be over 9000. Because of this, as we iterate through a list of power values we will\n",
    "count up each of the numbers until our sum reaches a value greater than 9000. Once this happens, we should stop adding the \n",
    "numbers and return the value where we stopped. In order to do this, we will need the following steps:\n",
    "\n",
    "1. Define the function to accept a list of numbers\n",
    "2. Create a variable to keep track of our sum\n",
    "3. Iterate through every element in our list of numbers\n",
    "4. Within the loop, add the current number we are looking at to our sum\n",
    "5. Still within the loop, check if the sum is greater than 9000. If it is, end the loop\n",
    "6. Return the value of the sum when we ended our loop"
   ]
  },
  {
   "cell_type": "code",
   "execution_count": null,
   "id": "6737d1b1",
   "metadata": {},
   "outputs": [],
   "source": [
    "Create a function named over_nine_thousand() that takes a list of numbers named lst as a parameter.\n",
    "\n",
    "The function should sum the elements of the list until the sum is greater than 9000. When this happens, the function should\n",
    "return the sum. If the sum of all of the elements is never greater than 9000, the function should return total sum of all the \n",
    "elements. If the list is empty, the function should return 0.\n",
    "\n",
    "For example, if lst was [8000, 900, 120, 5000], then the function should return 9020."
   ]
  },
  {
   "cell_type": "code",
   "execution_count": 2,
   "id": "d4a1457c",
   "metadata": {},
   "outputs": [
    {
     "name": "stdout",
     "output_type": "stream",
     "text": [
      "9020\n"
     ]
    }
   ],
   "source": [
    "def over_nine_thousand(lst):\n",
    "  sum = 0\n",
    "  for number in lst:\n",
    "    sum += number\n",
    "    if (sum > 9000):\n",
    "      break\n",
    "  return sum\n",
    "\n",
    "\n",
    "print(over_nine_thousand([8000, 900, 120, 5000]))"
   ]
  },
  {
   "cell_type": "code",
   "execution_count": null,
   "id": "95083a27",
   "metadata": {},
   "outputs": [],
   "source": []
  }
 ],
 "metadata": {
  "kernelspec": {
   "display_name": "Python 3 (ipykernel)",
   "language": "python",
   "name": "python3"
  },
  "language_info": {
   "codemirror_mode": {
    "name": "ipython",
    "version": 3
   },
   "file_extension": ".py",
   "mimetype": "text/x-python",
   "name": "python",
   "nbconvert_exporter": "python",
   "pygments_lexer": "ipython3",
   "version": "3.9.12"
  }
 },
 "nbformat": 4,
 "nbformat_minor": 5
}
