{
 "cells": [
  {
   "cell_type": "code",
   "execution_count": null,
   "id": "c18295cc",
   "metadata": {},
   "outputs": [],
   "source": [
    "Let’s say we are going to a restaurant and we decide to leave a tip. We can create a function to easily calculate the amount to \n",
    "tip based on the total cost of the food and a percentage. This function will accept both of those values as inputs and return\n",
    "the amount of money to tip. In order to do this, we will need a few steps:\n",
    "\n",
    "1. Define the function to accept the total cost of the food called total and the percentage to tip as percentage\n",
    "2. Calculate the tip amount by multiplying the total and percentage and dividing by 100\n",
    "3. Return the tip amount"
   ]
  },
  {
   "cell_type": "code",
   "execution_count": null,
   "id": "b75e4294",
   "metadata": {},
   "outputs": [],
   "source": [
    "Create a function called tip() that has two parameters named total and percentage.\n",
    "\n",
    "This function should return the amount you should tip given a total and the percentage you want to tip."
   ]
  },
  {
   "cell_type": "code",
   "execution_count": 11,
   "id": "8bdbdbbf",
   "metadata": {},
   "outputs": [
    {
     "name": "stdout",
     "output_type": "stream",
     "text": [
      "2.5\n",
      "0.0\n"
     ]
    }
   ],
   "source": [
    "def tip(total, percentage):\n",
    "  tip_amount = (total * percentage) / 100\n",
    "  return tip_amount\n",
    "  \n",
    "print(tip(10, 25))\n",
    "# should print 2.5\n",
    "print(tip(0, 100))\n",
    "# should print 0.0"
   ]
  },
  {
   "cell_type": "code",
   "execution_count": null,
   "id": "35f3ff9f",
   "metadata": {},
   "outputs": [],
   "source": []
  }
 ],
 "metadata": {
  "kernelspec": {
   "display_name": "Python 3 (ipykernel)",
   "language": "python",
   "name": "python3"
  },
  "language_info": {
   "codemirror_mode": {
    "name": "ipython",
    "version": 3
   },
   "file_extension": ".py",
   "mimetype": "text/x-python",
   "name": "python",
   "nbconvert_exporter": "python",
   "pygments_lexer": "ipython3",
   "version": "3.9.12"
  }
 },
 "nbformat": 4,
 "nbformat_minor": 5
}
