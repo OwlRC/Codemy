{
 "cells": [
  {
   "cell_type": "code",
   "execution_count": null,
   "id": "83ae9e63",
   "metadata": {},
   "outputs": [],
   "source": [
    "In this challenge, we will be using nested loops in order to raise a list of numbers to the power of a list of other numbers.\n",
    "What this means is that for every number in the first list, we will raise that number to the power of every number in the \n",
    "second list. If you provide the first list with 2 elements and the second list with 3 numbers, then there will be 6 final \n",
    "answers. Let’s look at the steps we need:\n",
    "\n",
    "1. Define the function to accept two lists of numbers, bases and powers\n",
    "2 .Create a new list that will contain our answers\n",
    "3. Create a loop that iterates through every base in bases\n",
    "4. Within that loop, create another loop that iterates through every power in power\n",
    "5. Within that nested loop, append the result of the current base raised to the current power.\n",
    "6. After all iterations of both loops are complete, return the list of answers"
   ]
  },
  {
   "cell_type": "code",
   "execution_count": null,
   "id": "cbfa8d53",
   "metadata": {},
   "outputs": [],
   "source": [
    "Create a function named exponents() that takes two lists as parameters named bases and powers. Return a new list containing \n",
    "every number in bases raised to every number in powers.\n",
    "\n",
    "For example, consider the following code.\n",
    "exponents([2, 3, 4], [1, 2, 3])\n",
    "\n",
    "the result would be the list [2, 4, 8, 3, 9, 27, 4, 16, 64]. It would first add two to the first. Then two to the second. \n",
    "Then two to the third, and so on."
   ]
  },
  {
   "cell_type": "code",
   "execution_count": 15,
   "id": "19f9eeeb",
   "metadata": {},
   "outputs": [
    {
     "name": "stdout",
     "output_type": "stream",
     "text": [
      "[2, 4, 8, 3, 9, 27, 4, 16, 64]\n"
     ]
    }
   ],
   "source": [
    "def exponents(bases, powers):\n",
    "  new_lst = []\n",
    "  for base in bases:\n",
    "    for power in powers:\n",
    "      new_lst.append(base ** power)\n",
    "  return new_lst\n",
    "\n",
    "print(exponents([2, 3, 4], [1, 2, 3]))"
   ]
  },
  {
   "cell_type": "code",
   "execution_count": null,
   "id": "2876b843",
   "metadata": {},
   "outputs": [],
   "source": []
  }
 ],
 "metadata": {
  "kernelspec": {
   "display_name": "Python 3 (ipykernel)",
   "language": "python",
   "name": "python3"
  },
  "language_info": {
   "codemirror_mode": {
    "name": "ipython",
    "version": 3
   },
   "file_extension": ".py",
   "mimetype": "text/x-python",
   "name": "python",
   "nbconvert_exporter": "python",
   "pygments_lexer": "ipython3",
   "version": "3.9.12"
  }
 },
 "nbformat": 4,
 "nbformat_minor": 5
}
