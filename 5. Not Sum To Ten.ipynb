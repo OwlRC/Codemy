{
 "cells": [
  {
   "cell_type": "code",
   "execution_count": null,
   "id": "b22c73f5",
   "metadata": {},
   "outputs": [],
   "source": [
    "Finally, we are going to check if the summation of two inputs does not equal ten. Our function will accept two inputs and add \n",
    "them together. If the two numbers added together are not equal to ten, then we will return True, otherwise, we will \n",
    "return False. Here is what we need to do:\n",
    "\n",
    "1. Define the function to accept two parameters, num1 and num2\n",
    "2. Add the two parameters together\n",
    "3. Test if the result is not equal to 10\n",
    "4. If the sum is not equal, return True, otherwise, return False"
   ]
  },
  {
   "cell_type": "code",
   "execution_count": 1,
   "id": "a4923804",
   "metadata": {},
   "outputs": [
    {
     "name": "stdout",
     "output_type": "stream",
     "text": [
      "True\n",
      "False\n",
      "False\n"
     ]
    }
   ],
   "source": [
    "def not_sum_to_ten(num1, num2):\n",
    "  if (num1 + num2 != 10):\n",
    "    return True\n",
    "  else:\n",
    "    return False\n",
    "\n",
    "print(not_sum_to_ten(9, -1))\n",
    "\n",
    "print(not_sum_to_ten(9, 1))\n",
    "\n",
    "print(not_sum_to_ten(5,5))"
   ]
  },
  {
   "cell_type": "code",
   "execution_count": null,
   "id": "4e09f382",
   "metadata": {},
   "outputs": [],
   "source": []
  }
 ],
 "metadata": {
  "kernelspec": {
   "display_name": "Python 3 (ipykernel)",
   "language": "python",
   "name": "python3"
  },
  "language_info": {
   "codemirror_mode": {
    "name": "ipython",
    "version": 3
   },
   "file_extension": ".py",
   "mimetype": "text/x-python",
   "name": "python",
   "nbconvert_exporter": "python",
   "pygments_lexer": "ipython3",
   "version": "3.9.12"
  }
 },
 "nbformat": 4,
 "nbformat_minor": 5
}
