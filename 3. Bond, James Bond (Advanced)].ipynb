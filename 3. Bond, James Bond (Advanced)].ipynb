{
 "cells": [
  {
   "cell_type": "code",
   "execution_count": null,
   "id": "a2935b53",
   "metadata": {},
   "outputs": [],
   "source": [
    "It’s time to re-create a famous movie scene through code. Our function is going to concatenate strings together in order to \n",
    "replace James Bond’s name with whatever name we want. The input to our function will be two strings, one for a first name and \n",
    "another for a last name. The function will return a string consisting of the famous phrase but replaced with our inputs.\n",
    "To accomplish this, we need to:\n",
    "\n",
    "1. Define the function to accept two parameters, first_name and last_name\n",
    "2. Concatenate the string ', ' on to the last_name\n",
    "3. Concatenate the first_name on to the result of the previous step\n",
    "4. Concatenate a space on to the result\n",
    "5. Concatenate the last_name again to the result\n",
    "6. Return the final string"
   ]
  },
  {
   "cell_type": "code",
   "execution_count": null,
   "id": "d6b0119f",
   "metadata": {},
   "outputs": [],
   "source": [
    "Write a function named introduction() that has two parameters named first_name and last_name.\n",
    "\n",
    "The function should return the last_name, followed by a comma, a space, first_name another space, and finally last_name."
   ]
  },
  {
   "cell_type": "code",
   "execution_count": 12,
   "id": "f670476d",
   "metadata": {},
   "outputs": [
    {
     "name": "stdout",
     "output_type": "stream",
     "text": [
      "Bond, James Bond\n",
      "Angelou, Maya Angelou\n"
     ]
    }
   ],
   "source": [
    "def introduction(first_name, last_name):\n",
    "  return last_name + \", \" + first_name + \" \" + last_name\n",
    "\n",
    "print(introduction(\"James\", \"Bond\"))\n",
    "# should print Bond, James Bond\n",
    "print(introduction(\"Maya\", \"Angelou\"))\n",
    "# should print Angelou, Maya Angelou"
   ]
  },
  {
   "cell_type": "code",
   "execution_count": null,
   "id": "639a4310",
   "metadata": {},
   "outputs": [],
   "source": []
  }
 ],
 "metadata": {
  "kernelspec": {
   "display_name": "Python 3 (ipykernel)",
   "language": "python",
   "name": "python3"
  },
  "language_info": {
   "codemirror_mode": {
    "name": "ipython",
    "version": 3
   },
   "file_extension": ".py",
   "mimetype": "text/x-python",
   "name": "python",
   "nbconvert_exporter": "python",
   "pygments_lexer": "ipython3",
   "version": "3.9.12"
  }
 },
 "nbformat": 4,
 "nbformat_minor": 5
}
