{
 "cells": [
  {
   "cell_type": "code",
   "execution_count": null,
   "id": "594e79c3",
   "metadata": {},
   "outputs": [],
   "source": [
    "For the final code challenge, we are going to perform multiple mathematical operations on multiple inputs to the function. We\n",
    "will begin with adding the first two inputs, then we will subtract the third and fourth inputs. After that, we will multiply \n",
    "the first result and the second result. In the end, we will return the remainder of the previous result divided by the first \n",
    "input. We will also print each of the steps. The steps needed to complete this are:\n",
    "\n",
    "1. Define the function to accept four inputs: a, b, c, and d\n",
    "2. Print and store the result of a + b\n",
    "3. Print and store the result of c - d\n",
    "4. Print and store the first result times the second result\n",
    "5. Return the previous result modulo a"
   ]
  },
  {
   "cell_type": "code",
   "execution_count": null,
   "id": "8188e8dd",
   "metadata": {},
   "outputs": [],
   "source": [
    "Create a function named lots_of_math(). This function should have four parameters named a, b, c, and d. The function should \n",
    "print 3 lines and return 1 value.\n",
    "\n",
    "First, print the sum of a and b.\n",
    "\n",
    "Second, print c minus d.\n",
    "\n",
    "Third, print the first number printed, multiplied by the second number printed.\n",
    "\n",
    "Finally, return the third number printed modulo a."
   ]
  },
  {
   "cell_type": "code",
   "execution_count": 14,
   "id": "6e1d83d8",
   "metadata": {},
   "outputs": [
    {
     "name": "stdout",
     "output_type": "stream",
     "text": [
      "3\n",
      "-1\n",
      "-3\n",
      "0\n",
      "2\n",
      "0\n",
      "0\n",
      "0\n"
     ]
    }
   ],
   "source": [
    "def lots_of_math(a, b, c, d):\n",
    "  first = a + b\n",
    "  second = c - d\n",
    "  third = first * second\n",
    "  fourth = third % a\n",
    "  print(first)\n",
    "  print(second)\n",
    "  print(third)\n",
    "  return fourth\n",
    "\n",
    "print(lots_of_math(1, 2, 3, 4))\n",
    "# should print 3, -1, -3, 0\n",
    "print(lots_of_math(1, 1, 1, 1))\n",
    "# should print 2, 0, 0, 0"
   ]
  },
  {
   "cell_type": "code",
   "execution_count": null,
   "id": "1607cb16",
   "metadata": {},
   "outputs": [],
   "source": []
  }
 ],
 "metadata": {
  "kernelspec": {
   "display_name": "Python 3 (ipykernel)",
   "language": "python",
   "name": "python3"
  },
  "language_info": {
   "codemirror_mode": {
    "name": "ipython",
    "version": 3
   },
   "file_extension": ".py",
   "mimetype": "text/x-python",
   "name": "python",
   "nbconvert_exporter": "python",
   "pygments_lexer": "ipython3",
   "version": "3.9.12"
  }
 },
 "nbformat": 4,
 "nbformat_minor": 5
}
