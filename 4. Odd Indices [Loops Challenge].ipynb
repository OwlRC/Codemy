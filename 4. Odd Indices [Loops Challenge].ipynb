{
 "cells": [
  {
   "cell_type": "code",
   "execution_count": null,
   "id": "84d715ca",
   "metadata": {},
   "outputs": [],
   "source": [
    "This next function will give us the values from a list at every odd index. We will need to accept a list of numbers as an input \n",
    "parameter and loop through the odd indices instead of the elements. Here are the steps needed:\n",
    "\n",
    "1. Define the function header to accept one input which will be our list of numbers\n",
    "2. Create a new list which will hold our values to return\n",
    "3. Iterate through every odd index until the end of the list\n",
    "4. Within the loop, get the element at the current odd index and append it to our new list\n",
    "5. Return the list of elements which we got from the odd indices."
   ]
  },
  {
   "cell_type": "code",
   "execution_count": null,
   "id": "94675ccd",
   "metadata": {},
   "outputs": [],
   "source": [
    "Create a function named odd_indices() that has one parameter named lst.\n",
    "\n",
    "The function should create a new empty list and add every element from lst that has an odd index. The function should then \n",
    "return this new list.\n",
    "\n",
    "For example, odd_indices([4, 3, 7, 10, 11, -2]) should return the list [3, 10, -2]."
   ]
  },
  {
   "cell_type": "code",
   "execution_count": 13,
   "id": "8d3fa12e",
   "metadata": {},
   "outputs": [
    {
     "name": "stdout",
     "output_type": "stream",
     "text": [
      "[3, 10, -2]\n"
     ]
    }
   ],
   "source": [
    "def odd_indices(lst):\n",
    "    new_lst = []\n",
    "    for index in range(1, len(lst), 2):\n",
    "        new_lst.append(lst[index])\n",
    "    return new_lst\n",
    "\n",
    "print(odd_indices([4, 3, 7, 10, 11, -2]))"
   ]
  },
  {
   "cell_type": "code",
   "execution_count": null,
   "id": "1a28abbb",
   "metadata": {},
   "outputs": [],
   "source": []
  }
 ],
 "metadata": {
  "kernelspec": {
   "display_name": "Python 3 (ipykernel)",
   "language": "python",
   "name": "python3"
  },
  "language_info": {
   "codemirror_mode": {
    "name": "ipython",
    "version": 3
   },
   "file_extension": ".py",
   "mimetype": "text/x-python",
   "name": "python",
   "nbconvert_exporter": "python",
   "pygments_lexer": "ipython3",
   "version": "3.9.12"
  }
 },
 "nbformat": 4,
 "nbformat_minor": 5
}
