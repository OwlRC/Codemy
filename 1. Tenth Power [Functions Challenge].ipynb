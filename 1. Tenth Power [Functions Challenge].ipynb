{
 "cells": [
  {
   "cell_type": "code",
   "execution_count": null,
   "id": "405c0e0c",
   "metadata": {},
   "outputs": [],
   "source": [
    "Let’s create some functions which can help us solve math problems! For this first function, we are going to take the tenth \n",
    "power of a number. In order to do this we need to do three things:\n",
    "\n",
    "1. Set up the function header for tenth_power which accepts one parameter\n",
    "2. Take the tenth power of the input value\n",
    "3. Return the result"
   ]
  },
  {
   "cell_type": "code",
   "execution_count": null,
   "id": "d74f47e6",
   "metadata": {},
   "outputs": [],
   "source": [
    "Write a function named tenth_power() that has one parameter named num.\n",
    "\n",
    "The function should return num raised to the 10th power."
   ]
  },
  {
   "cell_type": "code",
   "execution_count": 1,
   "id": "493f9d3f",
   "metadata": {},
   "outputs": [
    {
     "name": "stdout",
     "output_type": "stream",
     "text": [
      "1\n",
      "0\n",
      "1024\n"
     ]
    }
   ],
   "source": [
    "def tenth_power(num):\n",
    "    return num ** 10\n",
    "\n",
    "print(tenth_power(1))\n",
    "# 1 to the 10th power is 1\n",
    "print(tenth_power(0))\n",
    "# 0 to the 10th power is 0\n",
    "print(tenth_power(2))\n",
    "# 2 to the 10th power is 1024"
   ]
  },
  {
   "cell_type": "code",
   "execution_count": null,
   "id": "6ba525b8",
   "metadata": {},
   "outputs": [],
   "source": []
  }
 ],
 "metadata": {
  "kernelspec": {
   "display_name": "Python 3 (ipykernel)",
   "language": "python",
   "name": "python3"
  },
  "language_info": {
   "codemirror_mode": {
    "name": "ipython",
    "version": 3
   },
   "file_extension": ".py",
   "mimetype": "text/x-python",
   "name": "python",
   "nbconvert_exporter": "python",
   "pygments_lexer": "ipython3",
   "version": "3.9.12"
  }
 },
 "nbformat": 4,
 "nbformat_minor": 5
}
