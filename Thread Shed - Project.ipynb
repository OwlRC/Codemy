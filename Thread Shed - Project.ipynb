{
 "cells": [
  {
   "cell_type": "code",
   "execution_count": null,
   "id": "0485deb1",
   "metadata": {},
   "outputs": [],
   "source": [
    "You’ve recently been hired as a cashier at the local sewing hobby shop, Thread Shed. Some of your daily responsibilities \n",
    "involvetallying the number of sales during the day, calculating the total amount of money made, and keeping track of the names \n",
    "of the customers.\n",
    "\n",
    "Unfortunately, the Thread Shed has an extremely outdated register system and stores all of the transaction information in one \n",
    "huge unwieldy string called daily_sales.\n",
    "\n",
    "All day, for each transaction, the name of the customer, amount spent, types of thread purchased, and the date of sale is all\n",
    "recorded in this same string. Your task is to use your Python skills to iterate through this string and clean up each \n",
    "transaction and store all the information in easier-to-access lists."
   ]
  },
  {
   "cell_type": "code",
   "execution_count": null,
   "id": "2dbae467",
   "metadata": {},
   "outputs": [],
   "source": [
    "1.First, take a minute to inspect the string daily_sales in the code editor.\n",
    "How is each transaction stored? How is each piece of data within the transaction stored?\n",
    "Start thinking about how we can split up this string into its individual pieces of data."
   ]
  },
  {
   "cell_type": "code",
   "execution_count": null,
   "id": "7eb727c2",
   "metadata": {},
   "outputs": [],
   "source": [
    "2.It looks like each transaction is separated from the next transaction by a ,, and then each piece of data within a \n",
    "transaction is separated by the artifact ;,;.\n",
    "If we want to split up daily_sales into a list of individual transactions, we are going to want to split by ,, but first, we \n",
    "need to replace the artifact ;,; to something without a comma, so we don’t split any transactions themselves.\n",
    "Replace all the instances of ;,; in daily_sales with some other character and save the result to daily_sales_replaced."
   ]
  },
  {
   "cell_type": "code",
   "execution_count": null,
   "id": "ff883df4",
   "metadata": {},
   "outputs": [],
   "source": [
    "3.Now we can split the string into a list of each individual transaction.\n",
    "Split daily_sales_replaced around commas and save it to a new list daily_transactions."
   ]
  },
  {
   "cell_type": "code",
   "execution_count": null,
   "id": "60f93740",
   "metadata": {},
   "outputs": [],
   "source": [
    "4.Print daily_transactions.\n",
    "How does it look?"
   ]
  },
  {
   "cell_type": "code",
   "execution_count": null,
   "id": "5092fff0",
   "metadata": {},
   "outputs": [],
   "source": [
    "5.Our next step is to split each individual transaction into a list of its data points.\n",
    "First, define an empty list daily_transactions_split"
   ]
  },
  {
   "cell_type": "code",
   "execution_count": null,
   "id": "1510abff",
   "metadata": {},
   "outputs": [],
   "source": [
    "6.Now, iterate through daily_transactions (remember, this is a list of strings currently), and for each transaction, split the \n",
    "string around whatever character you replaced the ;,; artifacts with in Step 2.\n",
    "Append each of these split strings (which are lists now) to our new list daily_transactions_split."
   ]
  },
  {
   "cell_type": "code",
   "execution_count": null,
   "id": "39eeb0a8",
   "metadata": {},
   "outputs": [],
   "source": [
    "7.Print daily_transactions_split.\n",
    "How’s it looking?"
   ]
  },
  {
   "cell_type": "code",
   "execution_count": null,
   "id": "134651b2",
   "metadata": {},
   "outputs": [],
   "source": [
    "8.It looks like each data item has inconsistent whitespace around it. First, define an empty list transactions_clean.\n",
    "Now, Iterate through daily_transactions_split and for each transaction iterate through the different data points and strip off \n",
    "any whitespace.\n",
    "Add each of these cleaned up transactions to the new list transactions_clean."
   ]
  },
  {
   "cell_type": "code",
   "execution_count": null,
   "id": "f9c40ebb",
   "metadata": {},
   "outputs": [],
   "source": [
    "9.Print transactions_clean.\n",
    "If you performed the last step correctly, you shouldn’t see any unnecessary whitespace."
   ]
  },
  {
   "cell_type": "code",
   "execution_count": null,
   "id": "7aba0984",
   "metadata": {},
   "outputs": [],
   "source": [
    "10.Create three empty lists. customers, sales, and thread_sold. We are going to collect the individual data points for each \n",
    "transaction in these lists."
   ]
  },
  {
   "cell_type": "code",
   "execution_count": null,
   "id": "01e4e2cf",
   "metadata": {},
   "outputs": [],
   "source": [
    "11.Now, iterate through transactions_clean and for each transaction:\n",
    "1.Append the customers name to customers.\n",
    "2.Append the amount of the sale to sales.\n",
    "3.Append the threads sold to thread_sold."
   ]
  },
  {
   "cell_type": "code",
   "execution_count": null,
   "id": "9fa6423c",
   "metadata": {},
   "outputs": [],
   "source": [
    "12.Print customers, sales, and thread_sold to make sure each list is what you are expected.\n",
    "\n"
   ]
  },
  {
   "cell_type": "code",
   "execution_count": null,
   "id": "66a1a4bf",
   "metadata": {},
   "outputs": [],
   "source": [
    "Determine the total value of the days sales.\n",
    "\n",
    "13.Now we want to know how much Thread Shed made in a day.\n",
    "First, define a variable called total_sales and set it equal to 0."
   ]
  },
  {
   "cell_type": "code",
   "execution_count": null,
   "id": "60232f78",
   "metadata": {},
   "outputs": [],
   "source": [
    "14.Now, consider the list sales. It is a list of strings that we want to sum. In order for us to sum these values, we will have \n",
    "to remove the $, and set them equal to floats.\n",
    "Iterate through sales and for each item, strip off the $, set it equal to a float, and add it to total_sales"
   ]
  },
  {
   "cell_type": "code",
   "execution_count": null,
   "id": "b42d40f9",
   "metadata": {},
   "outputs": [],
   "source": [
    "15.Print total_sales.\n",
    "How much did we make today?"
   ]
  },
  {
   "cell_type": "code",
   "execution_count": null,
   "id": "a4006dd3",
   "metadata": {},
   "outputs": [],
   "source": [
    "How much thread of any specific color was sold?\n",
    "\n",
    "16.Finally, we want to determine how many of each color thread we sold today. Let’s start with a single color, and then we’ll\n",
    "generalize it.\n",
    "First, print out thread_sold and inspect it."
   ]
  },
  {
   "cell_type": "code",
   "execution_count": null,
   "id": "f6bb9769",
   "metadata": {},
   "outputs": [],
   "source": [
    "17.We see that thread_sold is a list of strings, some are single colors and some are multiple colors separated by the & \n",
    "character.\n",
    "The end product we want here is a list that contains an item for each color thread sold, so no strings that have multiple \n",
    "colors in them.\n",
    "First, define an empty list thread_sold_split."
   ]
  },
  {
   "cell_type": "code",
   "execution_count": null,
   "id": "4fba2b29",
   "metadata": {},
   "outputs": [],
   "source": [
    "18.Next, iterate through thread_sold. For each item, check if it is a single color or multiple colors. If it is a single color,\n",
    "append that color to thread_sold_split.\n",
    "If it is multiple colors, first split the string around the & character and then add each color individually to \n",
    "thread_sold_split."
   ]
  },
  {
   "cell_type": "code",
   "execution_count": null,
   "id": "7bf173a3",
   "metadata": {},
   "outputs": [],
   "source": [
    "19.Great, now we have a list thread_sold_split that contains an entry with the color of every thread sold today.\n",
    "Define a function called color_count that takes one argument, color. The function should iterate through thread_sold_split and \n",
    "count the number of times the item is equal to argument, color. Then, it should return this count."
   ]
  },
  {
   "cell_type": "code",
   "execution_count": null,
   "id": "d0ec452d",
   "metadata": {},
   "outputs": [],
   "source": [
    "20.Test your new function by running color_count('white').\n",
    "Your function should return 28."
   ]
  },
  {
   "cell_type": "code",
   "execution_count": null,
   "id": "2f29a868",
   "metadata": {},
   "outputs": [],
   "source": [
    "21.Define a list called colors that stores all of the colored threads that Thread Shed offers:\n",
    "colors = ['red', 'yellow', 'green', 'white', 'black', 'blue', 'purple']"
   ]
  },
  {
   "cell_type": "code",
   "execution_count": null,
   "id": "0aee113e",
   "metadata": {},
   "outputs": [],
   "source": [
    "22.Now, using the string method .format() and the function color_count(), iterate through the list colors and print a sentence \n",
    "that says how many threads of each color were sold today."
   ]
  },
  {
   "cell_type": "code",
   "execution_count": null,
   "id": "622348ba",
   "metadata": {},
   "outputs": [],
   "source": [
    "daily_sales = \\\n",
    "\"\"\"Edith Mcbride   ;,;$1.21   ;,;   white ;,; \n",
    "09/15/17   ,Herbert Tran   ;,;   $7.29;,; \n",
    "white&blue;,;   09/15/17 ,Paul Clarke ;,;$12.52 \n",
    ";,;   white&blue ;,; 09/15/17 ,Lucille Caldwell   \n",
    ";,;   $5.13   ;,; white   ;,; 09/15/17,\n",
    "Eduardo George   ;,;$20.39;,; white&yellow \n",
    ";,;09/15/17   ,   Danny Mclaughlin;,;$30.82;,;   \n",
    "purple ;,;09/15/17 ,Stacy Vargas;,; $1.85   ;,; \n",
    "purple&yellow ;,;09/15/17,   Shaun Brock;,; \n",
    "$17.98;,;purple&yellow ;,; 09/15/17 , \n",
    "Erick Harper ;,;$17.41;,; blue ;,; 09/15/17, \n",
    "Michelle Howell ;,;$28.59;,; blue;,;   09/15/17   , \n",
    "Carroll Boyd;,; $14.51;,;   purple&blue   ;,;   \n",
    "09/15/17   , Teresa Carter   ;,; $19.64 ;,; \n",
    "white;,;09/15/17   ,   Jacob Kennedy ;,; $11.40   \n",
    ";,; white&red   ;,; 09/15/17, Craig Chambers;,; \n",
    "$8.79 ;,; white&blue&red   ;,;09/15/17   , Peggy Bell;,; $8.65 ;,;blue   ;,; 09/15/17,   Kenneth Cunningham ;,;   $10.53;,;   green&blue   ;,; \n",
    "09/15/17   ,   Marvin Morgan;,;   $16.49;,; \n",
    "green&blue&red   ;,;   09/15/17 ,Marjorie Russell \n",
    ";,; $6.55 ;,;   green&blue&red;,;   09/15/17 ,\n",
    "Israel Cummings;,;   $11.86   ;,;black;,;  \n",
    "09/15/17,   June Doyle   ;,;   $22.29 ;,;  \n",
    "black&yellow ;,;09/15/17 , Jaime Buchanan   ;,;   \n",
    "$8.35;,;   white&black&yellow   ;,;   09/15/17,   \n",
    "Rhonda Farmer;,;$2.91 ;,;   white&black&yellow   \n",
    ";,;09/15/17, Darren Mckenzie ;,;$22.94;,;green \n",
    ";,;09/15/17,Rufus Malone;,;$4.70   ;,; green&yellow \n",
    ";,; 09/15/17   ,Hubert Miles;,;   $3.59   \n",
    ";,;green&yellow&blue;,;   09/15/17   , Joseph Bridges  ;,;$5.66   ;,; green&yellow&purple&blue \n",
    ";,;   09/15/17 , Sergio Murphy   ;,;$17.51   ;,;   \n",
    "black   ;,;   09/15/17 , Audrey Ferguson ;,; \n",
    "$5.54;,;black&blue   ;,;09/15/17 ,Edna Williams ;,; \n",
    "$17.13;,; black&blue;,;   09/15/17,   Randy Fleming;,;   $21.13 ;,;black ;,;09/15/17 ,Elisa Hart;,; $0.35   ;,; black&purple;,;   09/15/17   ,\n",
    "Ernesto Hunt ;,; $13.91   ;,;   black&purple ;,;   \n",
    "09/15/17,   Shannon Chavez   ;,;$19.26   ;,; \n",
    "yellow;,; 09/15/17   , Sammy Cain;,; $5.45;,;   \n",
    "yellow&red ;,;09/15/17 ,   Steven Reeves ;,;$5.50   \n",
    ";,;   yellow;,;   09/15/17, Ruben Jones   ;,; \n",
    "$14.56 ;,;   yellow&blue;,;09/15/17 , Essie Hansen;,;   $7.33   ;,;   yellow&blue&red\n",
    ";,; 09/15/17   ,   Rene Hardy   ;,; $20.22   ;,; \n",
    "black ;,;   09/15/17 ,   Lucy Snyder   ;,; $8.67   \n",
    ";,;black&red  ;,; 09/15/17 ,Dallas Obrien ;,;   \n",
    "$8.31;,;   black&red ;,;   09/15/17,   Stacey Payne \n",
    ";,;   $15.70   ;,;   white&black&red ;,;09/15/17   \n",
    ",   Tanya Cox   ;,;   $6.74   ;,;yellow   ;,; \n",
    "09/15/17 , Melody Moran ;,;   $30.84   \n",
    ";,;yellow&black;,;   09/15/17 , Louise Becker   ;,; \n",
    "$12.31 ;,; green&yellow&black;,;   09/15/17 ,\n",
    "Ryan Webster;,;$2.94 ;,; yellow ;,; 09/15/17 \n",
    ",Justin Blake ;,; $22.46   ;,;white&yellow ;,;   \n",
    "09/15/17,   Beverly Baldwin ;,;   $6.60;,;   \n",
    "white&yellow&black ;,;09/15/17   ,   Dale Brady   \n",
    ";,;   $6.27 ;,; yellow   ;,;09/15/17 ,Guadalupe Potter ;,;$21.12   ;,; yellow;,; 09/15/17   , \n",
    "Desiree Butler ;,;$2.10   ;,;white;,; 09/15/17  \n",
    ",Sonja Barnett ;,; $14.22 ;,;white&black;,;   \n",
    "09/15/17, Angelica Garza;,;$11.60;,;white&black   \n",
    ";,;   09/15/17   ,   Jamie Welch   ;,; $25.27   ;,; \n",
    "white&black&red ;,;09/15/17   ,   Rex Hudson   \n",
    ";,;$8.26;,;   purple;,; 09/15/17 ,   Nadine Gibbs \n",
    ";,;   $30.80 ;,;   purple&yellow   ;,; 09/15/17   , \n",
    "Hannah Pratt;,;   $22.61   ;,;   purple&yellow   \n",
    ";,;09/15/17,Gayle Richards;,;$22.19 ;,; \n",
    "green&purple&yellow ;,;09/15/17   ,Stanley Holland \n",
    ";,; $7.47   ;,; red ;,; 09/15/17 , Anna Dean;,;$5.49 ;,; yellow&red ;,;   09/15/17   ,\n",
    "Terrance Saunders ;,;   $23.70  ;,;green&yellow&red \n",
    ";,; 09/15/17 ,   Brandi Zimmerman ;,; $26.66 ;,; \n",
    "red   ;,;09/15/17 ,Guadalupe Freeman ;,; $25.95;,; \n",
    "green&red ;,;   09/15/17   ,Irving Patterson \n",
    ";,;$19.55 ;,; green&white&red ;,;   09/15/17 ,Karl Ross;,;   $15.68;,;   white ;,;   09/15/17 , Brandy Cortez ;,;$23.57;,;   white&red   ;,;09/15/17, \n",
    "Mamie Riley   ;,;$29.32;,; purple;,;09/15/17 ,Mike Thornton   ;,; $26.44 ;,;   purple   ;,; 09/15/17, \n",
    "Jamie Vaughn   ;,; $17.24;,;green ;,; 09/15/17   , \n",
    "Noah Day ;,;   $8.49   ;,;green   ;,;09/15/17   \n",
    ",Josephine Keller ;,;$13.10 ;,;green;,;   09/15/17 ,   Tracey Wolfe;,;$20.39 ;,; red   ;,; 09/15/17 ,\n",
    "Ignacio Parks;,;$14.70   ;,; white&red ;,;09/15/17 \n",
    ", Beatrice Newman ;,;$22.45   ;,;white&purple&red \n",
    ";,;   09/15/17, Andre Norris   ;,;   $28.46   ;,;   \n",
    "red;,;   09/15/17 ,   Albert Lewis ;,; $23.89;,;   \n",
    "black&red;,; 09/15/17,   Javier Bailey   ;,;   \n",
    "$24.49   ;,; black&red ;,; 09/15/17   , Everett Lyons ;,;$1.81;,;   black&red ;,; 09/15/17 ,   \n",
    "Abraham Maxwell;,; $6.81   ;,;green;,;   09/15/17   \n",
    ",   Traci Craig ;,;$0.65;,; green&yellow;,; \n",
    "09/15/17 , Jeffrey Jenkins   ;,;$26.45;,; \n",
    "green&yellow&blue   ;,;   09/15/17,   Merle Wilson \n",
    ";,;   $7.69 ;,; purple;,; 09/15/17,Janis Franklin   \n",
    ";,;$8.74   ;,; purple&black   ;,;09/15/17 ,  \n",
    "Leonard Guerrero ;,;   $1.86   ;,;yellow  \n",
    ";,;09/15/17,Lana Sanchez;,;$14.75   ;,; yellow;,;   \n",
    "09/15/17   ,Donna Ball ;,; $28.10  ;,; \n",
    "yellow&blue;,;   09/15/17   , Terrell Barber   ;,; \n",
    "$9.91   ;,; green ;,;09/15/17   ,Jody Flores;,; \n",
    "$16.34 ;,; green ;,;   09/15/17,   Daryl Herrera \n",
    ";,;$27.57;,; white;,;   09/15/17   , Miguel Mcguire;,;$5.25;,; white&blue   ;,;   09/15/17 ,   \n",
    "Rogelio Gonzalez;,; $9.51;,;   white&black&blue   \n",
    ";,;   09/15/17   ,   Lora Hammond ;,;$20.56 ;,; \n",
    "green;,;   09/15/17,Owen Ward;,; $21.64   ;,;   \n",
    "green&yellow;,;09/15/17,Malcolm Morales ;,;   \n",
    "$24.99   ;,;   green&yellow&black;,; 09/15/17 ,   \n",
    "Eric Mcdaniel ;,;$29.70;,; green ;,; 09/15/17 \n",
    ",Madeline Estrada;,;   $15.52;,;green;,;   09/15/17 \n",
    ", Leticia Manning;,;$15.70 ;,; green&purple;,; \n",
    "09/15/17 ,   Mario Wallace ;,; $12.36 ;,;green ;,; \n",
    "09/15/17,Lewis Glover;,;   $13.66   ;,;   \n",
    "green&white;,;09/15/17,   Gail Phelps   ;,;$30.52   \n",
    ";,; green&white&blue   ;,; 09/15/17 , Myrtle Morris \n",
    ";,;   $22.66   ;,; green&white&blue;,;09/15/17\"\"\"\n",
    "\n",
    "#------------------------------------------------\n",
    "# Start coding below!\n",
    "daily_sales_replaced = daily_sales.replace(\";,;\", \"+\")\n",
    "daily_transactions = daily_sales_replaced.split(\",\")\n",
    "#print(daily_transactions)\n",
    "\n",
    "daily_transactions_split = []\n",
    "for transaction in daily_transactions:\n",
    "  daily_transactions_split.append(transaction.split(\"+\"))\n",
    "#print(daily_transactions_split)    \n",
    "\n",
    "transactions_clean = []\n",
    "for transaction in daily_transactions_split:\n",
    "  transaction_clean = []\n",
    "  for data_point in transaction:\n",
    "    transaction_clean.append(data_point.replace(\"\\n\", \"\").strip(\" \"))\n",
    "  transactions_clean.append(transaction_clean)\n",
    "#print(transactions_clean)\n",
    "\n",
    "customer = []\n",
    "sales = []\n",
    "thread_sold = []\n",
    "for transaction in transactions_clean:\n",
    "  customer.append(transaction[0])\n",
    "  sales.append(transaction[1])\n",
    "  thread_sold.append(transaction[2])\n",
    "#print(customer)  \n",
    "#print(sales)\n",
    "#print(thread_sold)\n",
    "\n",
    "total_sales = 0\n",
    "for sale in sales:\n",
    "  total_sales += float(sale.strip(\"$\"))\n",
    "#print(total_sales)\n",
    "\n",
    "print(thread_sold)\n",
    "thread_sold_split = []\n",
    "for sale in thread_sold:\n",
    "  for color in sale.split(\"&\"):\n",
    "    thread_sold_split.append(color)\n",
    "\n",
    "def color_count(color):\n",
    "  color_total = 0\n",
    "  for thread_color in thread_sold_split:\n",
    "    if color == thread_color:\n",
    "      color_total += 1\n",
    "  return color_total\n",
    "print(color_count(\"white\"))\n",
    "\n",
    "colors = ['red', 'yellow', 'green', 'white', 'black', 'blue', 'purple']\n",
    "\n",
    "for color in colors:\n",
    "  print(\"Thread Shed sold {0} threads of {1} thread today.\".format(color_count(color), color))"
   ]
  }
 ],
 "metadata": {
  "kernelspec": {
   "display_name": "Python 3 (ipykernel)",
   "language": "python",
   "name": "python3"
  },
  "language_info": {
   "codemirror_mode": {
    "name": "ipython",
    "version": 3
   },
   "file_extension": ".py",
   "mimetype": "text/x-python",
   "name": "python",
   "nbconvert_exporter": "python",
   "pygments_lexer": "ipython3",
   "version": "3.9.12"
  }
 },
 "nbformat": 4,
 "nbformat_minor": 5
}
