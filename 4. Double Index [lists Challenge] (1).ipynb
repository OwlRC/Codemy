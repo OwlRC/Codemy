{
 "cells": [
  {
   "cell_type": "code",
   "execution_count": null,
   "id": "8bd0635d",
   "metadata": {},
   "outputs": [],
   "source": [
    "Our next function will double a value at a given position. We will provide a list and an index to double. This will create a\n",
    "new list by replacing the value at the index provided with double the original value. If the index is invalid then we should\n",
    "return the original list. Here is what we need to do:\n",
    "\n",
    "1. Define the function to accept two parameters, one for the list and another for the index of the value we are going to double\n",
    "2. Test if the index is invalid. If its invalid then return the original list\n",
    "3. If the list is valid then get all values up to the index and store it as a new list\n",
    "4. Append the value at the index times 2 to the new list\n",
    "5. Add the rest of the list from the index onto the new list\n",
    "6. Return the new list"
   ]
  },
  {
   "cell_type": "code",
   "execution_count": null,
   "id": "83c884b3",
   "metadata": {},
   "outputs": [],
   "source": [
    "Create a function named double_index that has two parameters: a list named lst and a single number named index.\n",
    "\n",
    "The function should return a new list where all elements are the same as in lst except for the element at index. The element at \n",
    "index should be double the value of the element at index of the original lst.\n",
    "\n",
    "If index is not a valid index, the function should return the original list.\n",
    "\n",
    "For example, the following code should return [1,2,6,4] because the element at index 2 has been doubled:\n",
    "double_index([1, 2, 3, 4], 2)\n",
    "\n",
    "After writing your function, un-comment the call to the function that we’ve provided for you to test your results."
   ]
  },
  {
   "cell_type": "code",
   "execution_count": 5,
   "id": "5585eeb9",
   "metadata": {},
   "outputs": [],
   "source": [
    "def double_index(lst, index):\n",
    " \n",
    "  if index >= len(lst):\n",
    "    return lst\n",
    "  else:\n",
    " \n",
    "    new_lst = lst[0:index]\n",
    "\n",
    "  new_lst.append(lst[index]*2)\n",
    "\n",
    "  new_lst = new_lst + lst[index+1:]\n",
    "  return new_lst\n",
    "  \n",
    "  print(double_index([3, 8, -10, 12], 2))"
   ]
  },
  {
   "cell_type": "code",
   "execution_count": null,
   "id": "98cf66ad",
   "metadata": {},
   "outputs": [],
   "source": []
  }
 ],
 "metadata": {
  "kernelspec": {
   "display_name": "Python 3 (ipykernel)",
   "language": "python",
   "name": "python3"
  },
  "language_info": {
   "codemirror_mode": {
    "name": "ipython",
    "version": 3
   },
   "file_extension": ".py",
   "mimetype": "text/x-python",
   "name": "python",
   "nbconvert_exporter": "python",
   "pygments_lexer": "ipython3",
   "version": "3.9.12"
  }
 },
 "nbformat": 4,
 "nbformat_minor": 5
}
