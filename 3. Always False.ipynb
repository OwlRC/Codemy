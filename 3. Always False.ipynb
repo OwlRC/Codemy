{
 "cells": [
  {
   "cell_type": "code",
   "execution_count": null,
   "id": "401fc85c",
   "metadata": {},
   "outputs": [],
   "source": [
    "There are some situations that you normally want to avoid when programming using conditional statements. \n",
    "One example is a contradiction. This occurs when your condition will always be false no matter what value you pass into it. \n",
    "Let’s create an example of a function that contains a contradiction. It will contain a few steps:\n",
    "\n",
    "1. Define the function to accept a single parameter called num\n",
    "2. Use a combination of <, > and and to create a contradiction in an if statement.\n",
    "3. If the condition is true, return True, otherwise return False. The trick here is that because we’ve written a \n",
    "contradiction, the condition should never be true, so we should expect to always return False."
   ]
  },
  {
   "cell_type": "code",
   "execution_count": 2,
   "id": "79d4a4a8",
   "metadata": {},
   "outputs": [
    {
     "name": "stdout",
     "output_type": "stream",
     "text": [
      "False\n",
      "False\n",
      "False\n"
     ]
    }
   ],
   "source": [
    "def always_false(num):\n",
    "  if (num > 0 and num < 1):\n",
    "    return True\n",
    "  else:\n",
    "    return False\n",
    "\n",
    "print(always_false(0))\n",
    "\n",
    "print(always_false(-1))\n",
    "\n",
    "print(always_false(1))"
   ]
  },
  {
   "cell_type": "code",
   "execution_count": null,
   "id": "d30503b0",
   "metadata": {},
   "outputs": [],
   "source": []
  }
 ],
 "metadata": {
  "kernelspec": {
   "display_name": "Python 3 (ipykernel)",
   "language": "python",
   "name": "python3"
  },
  "language_info": {
   "codemirror_mode": {
    "name": "ipython",
    "version": 3
   },
   "file_extension": ".py",
   "mimetype": "text/x-python",
   "name": "python",
   "nbconvert_exporter": "python",
   "pygments_lexer": "ipython3",
   "version": "3.9.12"
  }
 },
 "nbformat": 4,
 "nbformat_minor": 5
}
