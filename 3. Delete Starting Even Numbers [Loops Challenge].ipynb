{
 "cells": [
  {
   "cell_type": "code",
   "execution_count": null,
   "id": "c56912c6",
   "metadata": {},
   "outputs": [],
   "source": [
    "Let’s try a tricky challenge involving removing elements from a list. This function will repeatedly remove the first element of\n",
    "a list until it finds an odd number or runs out of elements. It will accept a list of numbers as an input parameter and return\n",
    "the modified list where any even numbers at the beginning of the list are removed. To do this, we will need the following steps:\n",
    "\n",
    "1. Define our function to accept a single input parameter lst which is a list of numbers\n",
    "2. Loop through every number in the list if there are still numbers in the list and if we haven’t hit an odd number yet\n",
    "3. Within the loop, if the first number in the list is even, then remove the first number of the list\n",
    "4. Once we hit an odd number or we run out of numbers, return the modified list"
   ]
  },
  {
   "cell_type": "code",
   "execution_count": null,
   "id": "347fd46b",
   "metadata": {},
   "outputs": [],
   "source": [
    "Write a function called delete_starting_evens() that has a parameter named lst.\n",
    "\n",
    "The function should remove elements from the front of lst until the front of the list is not even. The function should then\n",
    "return lst.\n",
    "\n",
    "For example if lst started as [4, 8, 10, 11, 12, 15], then delete_starting_evens(lst) should return [11, 12, 15].\n",
    "\n",
    "Make sure your function works even if every element in the list is even!"
   ]
  },
  {
   "cell_type": "code",
   "execution_count": 11,
   "id": "168541ad",
   "metadata": {},
   "outputs": [
    {
     "name": "stdout",
     "output_type": "stream",
     "text": [
      "[11, 12, 15]\n",
      "[]\n"
     ]
    }
   ],
   "source": [
    "def delete_starting_evens(lst):\n",
    "  while (len(lst) > 0 and lst[0] % 2 == 0):\n",
    "    lst = lst[1:]\n",
    "  return lst\n",
    "\n",
    "print(delete_starting_evens([4, 8, 10, 11, 12, 15]))\n",
    "print(delete_starting_evens([4, 8, 10]))\n"
   ]
  },
  {
   "cell_type": "code",
   "execution_count": null,
   "id": "9ce30ccb",
   "metadata": {},
   "outputs": [],
   "source": []
  }
 ],
 "metadata": {
  "kernelspec": {
   "display_name": "Python 3 (ipykernel)",
   "language": "python",
   "name": "python3"
  },
  "language_info": {
   "codemirror_mode": {
    "name": "ipython",
    "version": 3
   },
   "file_extension": ".py",
   "mimetype": "text/x-python",
   "name": "python",
   "nbconvert_exporter": "python",
   "pygments_lexer": "ipython3",
   "version": "3.9.12"
  }
 },
 "nbformat": 4,
 "nbformat_minor": 5
}
