{
 "cells": [
  {
   "cell_type": "code",
   "execution_count": null,
   "id": "4bbabcdd",
   "metadata": {},
   "outputs": [],
   "source": [
    "To make things a bit more challenging, we are going to create a function that determines whether or not a number is divisible \n",
    "by ten. A number is divisible by ten if the remainder of the number divided by 10 is 0. Using this, we can complete this \n",
    "function in a few steps:\n",
    "\n",
    "1. Define the function header to accept one input num\n",
    "2. Calculate the remainder of the input divided by 10 (use modulus)\n",
    "3. Use an if statement to check if the remainder was 0. If the remainder was 0, return True, otherwise, return False"
   ]
  },
  {
   "cell_type": "code",
   "execution_count": 1,
   "id": "c4047c7e",
   "metadata": {},
   "outputs": [
    {
     "name": "stdout",
     "output_type": "stream",
     "text": [
      "True\n",
      "False\n"
     ]
    }
   ],
   "source": [
    "def divisible_by_ten(num):\n",
    "  if (num % 10 == 0):\n",
    "    return True\n",
    "  else:\n",
    "    return False\n",
    "\n",
    "print(divisible_by_ten(20))\n",
    "\n",
    "print(divisible_by_ten(25))"
   ]
  },
  {
   "cell_type": "code",
   "execution_count": null,
   "id": "a54acb4d",
   "metadata": {},
   "outputs": [],
   "source": []
  }
 ],
 "metadata": {
  "kernelspec": {
   "display_name": "Python 3 (ipykernel)",
   "language": "python",
   "name": "python3"
  },
  "language_info": {
   "codemirror_mode": {
    "name": "ipython",
    "version": 3
   },
   "file_extension": ".py",
   "mimetype": "text/x-python",
   "name": "python",
   "nbconvert_exporter": "python",
   "pygments_lexer": "ipython3",
   "version": "3.9.12"
  }
 },
 "nbformat": 4,
 "nbformat_minor": 5
}
