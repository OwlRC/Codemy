{
 "cells": [
  {
   "cell_type": "code",
   "execution_count": null,
   "id": "0af43dae",
   "metadata": {},
   "outputs": [],
   "source": [
    "For the final challenge, we are going to test two lists to see if the second list is the reverse of the first list. There are a\n",
    "few different ways to approach this, but we are going to try a method that iterates through each of the values in one direction\n",
    "for the first list and compares them against the values starting from the other direction in the second list. Here is what you \n",
    "need to do:\n",
    "\n",
    "Define a function that has two input parameters for our lists\n",
    "Loop through every index in one of the lists from beginning to end\n",
    "Within the loop, compare the element in the first list at the current index against the element at the second list’s last index \n",
    "minus the current index. If there was a mismatch, then the lists aren’t reversed and we can return False\n",
    "If the loop ended successfully, then we know the lists are reversed and we can return True."
   ]
  },
  {
   "cell_type": "code",
   "execution_count": null,
   "id": "30f23d31",
   "metadata": {},
   "outputs": [],
   "source": [
    "Create a function named reversed_list() that takes two lists of the same size as parameters named lst1 and lst2.\n",
    "\n",
    "The function should return True if lst1 is the same as lst2 reversed. The function should return False otherwise.\n",
    "\n",
    "For example, reversed_list([1, 2, 3], [3, 2, 1]) should return True."
   ]
  },
  {
   "cell_type": "code",
   "execution_count": 5,
   "id": "8bf26e8c",
   "metadata": {},
   "outputs": [
    {
     "name": "stdout",
     "output_type": "stream",
     "text": [
      "True\n",
      "False\n"
     ]
    }
   ],
   "source": [
    "def reversed_list(lst1, lst2):\n",
    "  for index in range(len(lst1)):\n",
    "    if lst1[index] != lst2[len(lst2) - 1 - index]:\n",
    "      return False\n",
    "  return True\n",
    "\n",
    "print(reversed_list([1, 2, 3], [3, 2, 1]))\n",
    "\n",
    "print(reversed_list([1, 5, 3], [3, 2, 1]))"
   ]
  },
  {
   "cell_type": "code",
   "execution_count": null,
   "id": "10f524a6",
   "metadata": {},
   "outputs": [],
   "source": []
  }
 ],
 "metadata": {
  "kernelspec": {
   "display_name": "Python 3 (ipykernel)",
   "language": "python",
   "name": "python3"
  },
  "language_info": {
   "codemirror_mode": {
    "name": "ipython",
    "version": 3
   },
   "file_extension": ".py",
   "mimetype": "text/x-python",
   "name": "python",
   "nbconvert_exporter": "python",
   "pygments_lexer": "ipython3",
   "version": "3.9.12"
  }
 },
 "nbformat": 4,
 "nbformat_minor": 5
}
