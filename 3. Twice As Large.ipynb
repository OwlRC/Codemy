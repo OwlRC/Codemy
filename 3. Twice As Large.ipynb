{
 "cells": [
  {
   "cell_type": "code",
   "execution_count": null,
   "id": "e24cd361",
   "metadata": {},
   "outputs": [],
   "source": [
    "In this challenge, we will determine if one number is twice as large as another number. To do this, we will compare the first \n",
    "number with two times the second number. Here are the steps:\n",
    "\n",
    "1. Define our function with two inputs num1 and num2\n",
    "2. Multiply the second input by 2\n",
    "3. Use an if statement to compare the result of the last calculation with the first input\n",
    "4. If num1 is greater then return True otherwise return False"
   ]
  },
  {
   "cell_type": "code",
   "execution_count": 1,
   "id": "f9bd9991",
   "metadata": {},
   "outputs": [
    {
     "name": "stdout",
     "output_type": "stream",
     "text": [
      "False\n",
      "True\n"
     ]
    }
   ],
   "source": [
    "def twice_as_large(num1, num2):\n",
    "  if num1 > num2 * 2:\n",
    "    return True\n",
    "  else:\n",
    "    return False\n",
    "\n",
    "print(twice_as_large(10, 5))\n",
    "\n",
    "print(twice_as_large(11, 5))"
   ]
  },
  {
   "cell_type": "code",
   "execution_count": null,
   "id": "51f85240",
   "metadata": {},
   "outputs": [],
   "source": []
  }
 ],
 "metadata": {
  "kernelspec": {
   "display_name": "Python 3 (ipykernel)",
   "language": "python",
   "name": "python3"
  },
  "language_info": {
   "codemirror_mode": {
    "name": "ipython",
    "version": 3
   },
   "file_extension": ".py",
   "mimetype": "text/x-python",
   "name": "python",
   "nbconvert_exporter": "python",
   "pygments_lexer": "ipython3",
   "version": "3.9.12"
  }
 },
 "nbformat": 4,
 "nbformat_minor": 5
}
