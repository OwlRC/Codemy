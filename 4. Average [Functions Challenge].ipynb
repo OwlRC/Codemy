{
 "cells": [
  {
   "cell_type": "code",
   "execution_count": null,
   "id": "43250476",
   "metadata": {},
   "outputs": [],
   "source": [
    "Let’s create a function which takes the average of two numbers. These two numbers will be the input of the function and the \n",
    "output will be the average of the two. In order to do this, we need to do a few steps:\n",
    "\n",
    "1. Define the function with two input parameters, num1 and num2\n",
    "2. Calculate the sum of the two numbers\n",
    "3. Divide the sum by the number of inputs to the function\n",
    "4. Return the answer"
   ]
  },
  {
   "cell_type": "code",
   "execution_count": null,
   "id": "f4e95ab3",
   "metadata": {},
   "outputs": [],
   "source": [
    "Write a function named average() that has two parameters named num1 and num2.\n",
    "\n",
    "The function should return the average of these two numbers."
   ]
  },
  {
   "cell_type": "code",
   "execution_count": 6,
   "id": "c43bc651",
   "metadata": {},
   "outputs": [
    {
     "name": "stdout",
     "output_type": "stream",
     "text": [
      "50.5\n",
      "0.0\n"
     ]
    }
   ],
   "source": [
    "def average(num1, num2):\n",
    "  sum = num1 + num2\n",
    "  answer = sum / 2\n",
    "  return answer\n",
    "\n",
    "print(average(1, 100))\n",
    "# The average of 1 and 100 is 50.5\n",
    "print(average(1, -1))\n",
    "# The average of 1 and -1 is 0"
   ]
  },
  {
   "cell_type": "code",
   "execution_count": null,
   "id": "60ec2680",
   "metadata": {},
   "outputs": [],
   "source": []
  }
 ],
 "metadata": {
  "kernelspec": {
   "display_name": "Python 3 (ipykernel)",
   "language": "python",
   "name": "python3"
  },
  "language_info": {
   "codemirror_mode": {
    "name": "ipython",
    "version": 3
   },
   "file_extension": ".py",
   "mimetype": "text/x-python",
   "name": "python",
   "nbconvert_exporter": "python",
   "pygments_lexer": "ipython3",
   "version": "3.9.12"
  }
 },
 "nbformat": 4,
 "nbformat_minor": 5
}
