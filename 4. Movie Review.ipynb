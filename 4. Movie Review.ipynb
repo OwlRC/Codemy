{
 "cells": [
  {
   "cell_type": "code",
   "execution_count": null,
   "id": "acdfc4ac",
   "metadata": {},
   "outputs": [],
   "source": [
    "We want to create a function that will help us rate movies. Our function will split the ratings into different ranges and tell\n",
    "the user how the movie was based on the movie’s rating. Here are the steps needed:\n",
    "\n",
    "1. Define our function to accept a single number called rating\n",
    "2.If the rating is equal to or less than 5, return \"Avoid at all costs!\"\n",
    "3. If the rating was less than 9, return \"This one was fun.\"\n",
    "4. If neither of the if statement conditions were met, return \"Outstanding!\""
   ]
  },
  {
   "cell_type": "code",
   "execution_count": 4,
   "id": "09673b79",
   "metadata": {},
   "outputs": [
    {
     "name": "stdout",
     "output_type": "stream",
     "text": [
      "Outstanding!\n",
      "Avoid at all costs!\n",
      "This one was fun.\n"
     ]
    }
   ],
   "source": [
    "def movie_review(rating):\n",
    "  if(rating <= 5):\n",
    "    return \"Avoid at all costs!\"\n",
    "  if(rating < 9):\n",
    "    return \"This one was fun.\"\n",
    "  return \"Outstanding!\"\n",
    "\n",
    "print(movie_review(9))\n",
    "print(movie_review(4))\n",
    "print(movie_review(6))"
   ]
  },
  {
   "cell_type": "code",
   "execution_count": null,
   "id": "8c6226a6",
   "metadata": {},
   "outputs": [],
   "source": []
  }
 ],
 "metadata": {
  "kernelspec": {
   "display_name": "Python 3 (ipykernel)",
   "language": "python",
   "name": "python3"
  },
  "language_info": {
   "codemirror_mode": {
    "name": "ipython",
    "version": 3
   },
   "file_extension": ".py",
   "mimetype": "text/x-python",
   "name": "python",
   "nbconvert_exporter": "python",
   "pygments_lexer": "ipython3",
   "version": "3.9.12"
  }
 },
 "nbformat": 4,
 "nbformat_minor": 5
}
