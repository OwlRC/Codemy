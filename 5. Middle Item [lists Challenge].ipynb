{
 "cells": [
  {
   "cell_type": "code",
   "execution_count": null,
   "id": "9835434d",
   "metadata": {},
   "outputs": [],
   "source": [
    "For the final code challenge, we are going to create a function that finds the middle item from a list of values. This will be\n",
    "different depending on whether there are an odd or even number of values. In the case of an odd number of elements, we want this\n",
    "function to return the exact middle value. If there is an even number of elements, it returns the average of the middle two \n",
    "elements. Here is what we need to do:\n",
    "\n",
    "1. Define the function to accept one parameter for our list of numbers\n",
    "2. Determine if the length of the list is even or odd\n",
    "3. If the length is even, then return the average of the middle two numbers\n",
    "4. If the length is odd, then return the middle number"
   ]
  },
  {
   "cell_type": "code",
   "execution_count": null,
   "id": "e91a44f6",
   "metadata": {},
   "outputs": [],
   "source": [
    "Create a function called middle_element that has one parameter named lst.\n",
    "\n",
    "If there are an odd number of elements in lst, the function should return the middle element. If there are an even number of \n",
    "elements, the function should return the average of the middle two elements.\n"
   ]
  },
  {
   "cell_type": "code",
   "execution_count": 7,
   "id": "e6f4c440",
   "metadata": {},
   "outputs": [
    {
     "name": "stdout",
     "output_type": "stream",
     "text": [
      "-7.0\n"
     ]
    }
   ],
   "source": [
    "def middle_element(lst):\n",
    "  if len(lst) % 2 == 0:\n",
    "    sum = lst[int(len(lst)/2)] + lst[int(len(lst)/2) - 1]\n",
    "    return sum / 2\n",
    "  else:\n",
    "    return lst[int(len(lst)/2)]\n",
    "print(middle_element([5, 2, -10, -4, 4, 5]))  "
   ]
  },
  {
   "cell_type": "code",
   "execution_count": null,
   "id": "a2455154",
   "metadata": {},
   "outputs": [],
   "source": []
  }
 ],
 "metadata": {
  "kernelspec": {
   "display_name": "Python 3 (ipykernel)",
   "language": "python",
   "name": "python3"
  },
  "language_info": {
   "codemirror_mode": {
    "name": "ipython",
    "version": 3
   },
   "file_extension": ".py",
   "mimetype": "text/x-python",
   "name": "python",
   "nbconvert_exporter": "python",
   "pygments_lexer": "ipython3",
   "version": "3.9.12"
  }
 },
 "nbformat": 4,
 "nbformat_minor": 5
}
