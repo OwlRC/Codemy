{
 "cells": [
  {
   "cell_type": "code",
   "execution_count": null,
   "id": "bf28e863",
   "metadata": {},
   "outputs": [],
   "source": [
    "For the first code challenge, we are going to calculate the length of a list and then append the value to the end of the list. \n",
    "Here is what we need to do:\n",
    "\n",
    "1. Define the function to accept one parameter for our list\n",
    "2. Get the length of the list\n",
    "3. Append the length of the list to the end of the list\n",
    "4. Return the modified list"
   ]
  },
  {
   "cell_type": "code",
   "execution_count": 1,
   "id": "83b7931a",
   "metadata": {},
   "outputs": [
    {
     "name": "stdout",
     "output_type": "stream",
     "text": [
      "[23, 42, 108, 3]\n"
     ]
    }
   ],
   "source": [
    "def append_size(lst):\n",
    "    lst.append(len(lst))\n",
    "    return lst\n",
    "\n",
    "print(append_size([23, 42, 108]))"
   ]
  },
  {
   "cell_type": "code",
   "execution_count": null,
   "id": "6aba1cda",
   "metadata": {},
   "outputs": [],
   "source": []
  }
 ],
 "metadata": {
  "kernelspec": {
   "display_name": "Python 3 (ipykernel)",
   "language": "python",
   "name": "python3"
  },
  "language_info": {
   "codemirror_mode": {
    "name": "ipython",
    "version": 3
   },
   "file_extension": ".py",
   "mimetype": "text/x-python",
   "name": "python",
   "nbconvert_exporter": "python",
   "pygments_lexer": "ipython3",
   "version": "3.9.12"
  }
 },
 "nbformat": 4,
 "nbformat_minor": 5
}
