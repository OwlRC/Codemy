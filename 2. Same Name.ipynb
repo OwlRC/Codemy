{
 "cells": [
  {
   "cell_type": "code",
   "execution_count": null,
   "id": "140a1686",
   "metadata": {},
   "outputs": [],
   "source": [
    "We need to write a program that checks different names and determines if they are equal. We need to accept two strings and \n",
    "compare them. Here are the steps:\n",
    "\n",
    "Define the function to accept two strings, your_name and my_name\n",
    "Test if the two strings are equal\n",
    "Return True if they are equal, otherwise return False"
   ]
  },
  {
   "cell_type": "code",
   "execution_count": 1,
   "id": "1b2435ef",
   "metadata": {},
   "outputs": [
    {
     "name": "stdout",
     "output_type": "stream",
     "text": [
      "True\n",
      "False\n"
     ]
    }
   ],
   "source": [
    "def same_name(your_name, my_name):\n",
    "  if (your_name == my_name):\n",
    "    return True\n",
    "  else:\n",
    "    return False\n",
    "\n",
    "print(same_name(\"Colby\", \"Colby\"))\n",
    "\n",
    "print(same_name(\"Tina\", \"Amber\"))"
   ]
  },
  {
   "cell_type": "code",
   "execution_count": null,
   "id": "58d851df",
   "metadata": {},
   "outputs": [],
   "source": []
  }
 ],
 "metadata": {
  "kernelspec": {
   "display_name": "Python 3 (ipykernel)",
   "language": "python",
   "name": "python3"
  },
  "language_info": {
   "codemirror_mode": {
    "name": "ipython",
    "version": 3
   },
   "file_extension": ".py",
   "mimetype": "text/x-python",
   "name": "python",
   "nbconvert_exporter": "python",
   "pygments_lexer": "ipython3",
   "version": "3.9.12"
  }
 },
 "nbformat": 4,
 "nbformat_minor": 5
}
