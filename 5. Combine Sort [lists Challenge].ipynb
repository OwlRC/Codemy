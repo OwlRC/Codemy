{
 "cells": [
  {
   "cell_type": "code",
   "execution_count": null,
   "id": "8c532b9f",
   "metadata": {},
   "outputs": [],
   "source": [
    "Finally, let’s create a function that combines two different lists together and then sorts them. To do this we can combine the \n",
    "lists with an operation and then sort using a function call. Here are the steps we need to use:\n",
    "\n",
    "1. Define the function to accept two parameters, one for each list.\n",
    "2. Combine the two lists together\n",
    "3. Sort the result\n",
    "4. Return the sorted and combined list"
   ]
  },
  {
   "cell_type": "code",
   "execution_count": null,
   "id": "6f6c7d4b",
   "metadata": {},
   "outputs": [],
   "source": [
    "Write a function named combine_sort that has two parameters named lst1 and lst2.\n",
    "\n",
    "The function should combine these two lists into one new list and sort the result. Return the new sorted list."
   ]
  },
  {
   "cell_type": "code",
   "execution_count": 11,
   "id": "aa8cd783",
   "metadata": {},
   "outputs": [
    {
     "name": "stdout",
     "output_type": "stream",
     "text": [
      "[-10, 2, 2, 4, 5, 5, 10, 10]\n"
     ]
    }
   ],
   "source": [
    "def combine_sort(lst1, lst2):\n",
    "    unsorted = lst1 + lst2\n",
    "    unsortedList = sorted(unsorted)\n",
    "    return unsortedList\n",
    "\n",
    "print(combine_sort([4, 10, 2, 5], [-10, 2, 5, 10]))"
   ]
  },
  {
   "cell_type": "code",
   "execution_count": null,
   "id": "8b92fe9d",
   "metadata": {},
   "outputs": [],
   "source": []
  }
 ],
 "metadata": {
  "kernelspec": {
   "display_name": "Python 3 (ipykernel)",
   "language": "python",
   "name": "python3"
  },
  "language_info": {
   "codemirror_mode": {
    "name": "ipython",
    "version": 3
   },
   "file_extension": ".py",
   "mimetype": "text/x-python",
   "name": "python",
   "nbconvert_exporter": "python",
   "pygments_lexer": "ipython3",
   "version": "3.9.12"
  }
 },
 "nbformat": 4,
 "nbformat_minor": 5
}
