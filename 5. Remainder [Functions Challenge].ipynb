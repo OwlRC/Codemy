{
 "cells": [
  {
   "cell_type": "code",
   "execution_count": null,
   "id": "032b2998",
   "metadata": {},
   "outputs": [],
   "source": [
    "For the final challenge in this group, we are going to take the remainder of two numbers while performing other mathematical \n",
    "operations on them. We are going to multiply the numerator by 2 and divide the denominator by 2. After the two values have been\n",
    "modified, we will divide them and return the remainder. In order to do this we will need to:\n",
    "\n",
    "1. Define the function to accept two parameters\n",
    "2. Multiply the first input value by 2\n",
    "3. Divide the second input value by 2\n",
    "4. Calculate the remainder of the modified first input value divided by the modified second input value (using modulus)\n",
    "5. Return the answer"
   ]
  },
  {
   "cell_type": "code",
   "execution_count": null,
   "id": "6d7ff83e",
   "metadata": {},
   "outputs": [],
   "source": [
    "Write a function named remainder() that has two parameters named num1 and num2.\n",
    "\n",
    "The function should return the remainder of twice num1 divided by half of num2."
   ]
  },
  {
   "cell_type": "code",
   "execution_count": 7,
   "id": "9221b21e",
   "metadata": {},
   "outputs": [
    {
     "name": "stdout",
     "output_type": "stream",
     "text": [
      "2.0\n",
      "0.0\n"
     ]
    }
   ],
   "source": [
    "def remainder(num1, num2):\n",
    " return (num1 * 2) % (num2 / 2)\n",
    "\n",
    "print(remainder(15, 14))\n",
    "# should print 2\n",
    "print(remainder(9, 6))\n",
    "# should print 0"
   ]
  },
  {
   "cell_type": "code",
   "execution_count": null,
   "id": "9eba69b1",
   "metadata": {},
   "outputs": [],
   "source": []
  }
 ],
 "metadata": {
  "kernelspec": {
   "display_name": "Python 3 (ipykernel)",
   "language": "python",
   "name": "python3"
  },
  "language_info": {
   "codemirror_mode": {
    "name": "ipython",
    "version": 3
   },
   "file_extension": ".py",
   "mimetype": "text/x-python",
   "name": "python",
   "nbconvert_exporter": "python",
   "pygments_lexer": "ipython3",
   "version": "3.9.12"
  }
 },
 "nbformat": 4,
 "nbformat_minor": 5
}
