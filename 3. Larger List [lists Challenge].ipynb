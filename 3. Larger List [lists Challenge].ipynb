{
 "cells": [
  {
   "cell_type": "code",
   "execution_count": null,
   "id": "f3793848",
   "metadata": {},
   "outputs": [],
   "source": [
    "Let’s say we are working with two conveyor belts that contain items represented by a numerical ID. If one conveyor belt \n",
    "contains more items than the other, then we need to return the ID of the last item on that belt. In the case where they have \n",
    "the same number of items, return the last item from the first conveyor belt. In our code, we can represent the belts using \n",
    "lists. Here are the steps:\n",
    "\n",
    "1. Define the function to accept two parameters for our two lists of numbers\n",
    "2. Check if the length of the first list is greater than or equal to the length of the second list\n",
    "3. If true, then return the last element from the first list. Otherwise, return the last element from the second list"
   ]
  },
  {
   "cell_type": "code",
   "execution_count": null,
   "id": "fa2ea2f9",
   "metadata": {},
   "outputs": [],
   "source": [
    "Write a function named larger_list that has two parameters named lst1 and lst2.\n",
    "\n",
    "The function should return the last element of the list that contains more elements. If both lists are the same size, then \n",
    "return the last element of lst1."
   ]
  },
  {
   "cell_type": "code",
   "execution_count": 7,
   "id": "efa2871c",
   "metadata": {},
   "outputs": [
    {
     "name": "stdout",
     "output_type": "stream",
     "text": [
      "5\n"
     ]
    }
   ],
   "source": [
    "def larger_list(lst1, lst2):\n",
    "  if len(lst1) >= len(lst2):\n",
    "    return lst1[-1]\n",
    "  else:\n",
    "    return lst2[-1]  \n",
    "\n",
    "print(larger_list([4, 10, 2, 5], [-10, 2, 5, 10]))"
   ]
  },
  {
   "cell_type": "code",
   "execution_count": null,
   "id": "e2e09654",
   "metadata": {},
   "outputs": [],
   "source": []
  }
 ],
 "metadata": {
  "kernelspec": {
   "display_name": "Python 3 (ipykernel)",
   "language": "python",
   "name": "python3"
  },
  "language_info": {
   "codemirror_mode": {
    "name": "ipython",
    "version": 3
   },
   "file_extension": ".py",
   "mimetype": "text/x-python",
   "name": "python",
   "nbconvert_exporter": "python",
   "pygments_lexer": "ipython3",
   "version": "3.9.12"
  }
 },
 "nbformat": 4,
 "nbformat_minor": 5
}
