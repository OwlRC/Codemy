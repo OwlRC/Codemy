{
 "cells": [
  {
   "cell_type": "code",
   "execution_count": null,
   "id": "8b92fe9d",
   "metadata": {},
   "outputs": [],
   "source": [
    "Let’s start our challenging problems with a function that creates a list of numbers up to 100 in increments of 3 starting from \n",
    "a number that is passed to the function as an input parameter. Here is what we need to do:\n",
    "\n",
    "1. Define the function to accept one parameter for our starting number\n",
    "2. Calculate the numbers between the starting number and 100 while incrementing by 3\n",
    "3. Store the numbers in a list\n",
    "4. Return the list"
   ]
  },
  {
   "cell_type": "code",
   "execution_count": null,
   "id": "1cd6e4bb",
   "metadata": {},
   "outputs": [],
   "source": [
    "Create a function called every_three_nums that has one parameter named start.\n",
    "\n",
    "The function should return a list of every third number between start and 100 (inclusive). For example, every_three_nums(91) \n",
    "should return the list [91, 94, 97, 100]. If start is greater than 100, the function should return an empty list."
   ]
  },
  {
   "cell_type": "code",
   "execution_count": 1,
   "id": "d6be28ae",
   "metadata": {},
   "outputs": [
    {
     "name": "stdout",
     "output_type": "stream",
     "text": [
      "[91, 94, 97, 100]\n"
     ]
    }
   ],
   "source": [
    "def every_three_nums(start):\n",
    "  return list(range(start, 101, 3))\n",
    "\n",
    "print(every_three_nums(91))"
   ]
  },
  {
   "cell_type": "code",
   "execution_count": null,
   "id": "28d0b44d",
   "metadata": {},
   "outputs": [],
   "source": []
  }
 ],
 "metadata": {
  "kernelspec": {
   "display_name": "Python 3 (ipykernel)",
   "language": "python",
   "name": "python3"
  },
  "language_info": {
   "codemirror_mode": {
    "name": "ipython",
    "version": 3
   },
   "file_extension": ".py",
   "mimetype": "text/x-python",
   "name": "python",
   "nbconvert_exporter": "python",
   "pygments_lexer": "ipython3",
   "version": "3.9.12"
  }
 },
 "nbformat": 4,
 "nbformat_minor": 5
}
