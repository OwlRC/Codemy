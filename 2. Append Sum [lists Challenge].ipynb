{
 "cells": [
  {
   "cell_type": "code",
   "execution_count": null,
   "id": "1b256b47",
   "metadata": {},
   "outputs": [],
   "source": [
    "Let’s create a function that calculates the sum of the last two elements of a list and appends it to the end. After doing so, \n",
    "it will repeat this process two more times and return the resulting list. You can choose to use a loop or manually use three \n",
    "lines. Here are the steps we need:\n",
    "\n",
    "1. Define the function to accept one parameter for our list of numbers\n",
    "2. Add the last and second to last elements from our list together\n",
    "3. Append the calculated value to the end of our list.\n",
    "4. Repeat steps 2 and 3 two more times\n",
    "5. Return the modified list"
   ]
  },
  {
   "cell_type": "code",
   "execution_count": null,
   "id": "d78b9d46",
   "metadata": {},
   "outputs": [],
   "source": [
    "Write a function named append_sum that has one parameter — a list named named lst.\n",
    "\n",
    "The function should add the last two elements of lst together and append the result to lst. It should do this process three\n",
    "times and then return lst.\n",
    "\n",
    "For example, if lst started as [1, 1, 2], the final result should be [1, 1, 2, 3, 5, 8]."
   ]
  },
  {
   "cell_type": "code",
   "execution_count": 6,
   "id": "9b7d656d",
   "metadata": {},
   "outputs": [
    {
     "name": "stdout",
     "output_type": "stream",
     "text": [
      "[1, 1, 2, 3, 5, 8]\n"
     ]
    }
   ],
   "source": [
    "def append_sum(lst):\n",
    "  lst.append(lst[-1] + lst[-2])\n",
    "  lst.append(lst[-1] + lst[-2])\n",
    "  lst.append(lst[-1] + lst[-2])\n",
    "  return lst\n",
    "\n",
    "print(append_sum([1, 1, 2]))\n",
    "    "
   ]
  },
  {
   "cell_type": "code",
   "execution_count": null,
   "id": "668f732d",
   "metadata": {},
   "outputs": [],
   "source": []
  }
 ],
 "metadata": {
  "kernelspec": {
   "display_name": "Python 3 (ipykernel)",
   "language": "python",
   "name": "python3"
  },
  "language_info": {
   "codemirror_mode": {
    "name": "ipython",
    "version": 3
   },
   "file_extension": ".py",
   "mimetype": "text/x-python",
   "name": "python",
   "nbconvert_exporter": "python",
   "pygments_lexer": "ipython3",
   "version": "3.9.12"
  }
 },
 "nbformat": 4,
 "nbformat_minor": 5
}
