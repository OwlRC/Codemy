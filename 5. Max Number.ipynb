{
 "cells": [
  {
   "cell_type": "code",
   "execution_count": null,
   "id": "f3c0945b",
   "metadata": {},
   "outputs": [],
   "source": [
    "For the final challenge, we are going to select which number from three input values is the greatest using conditional \n",
    "statements. To do this, we need to check the different combinations of values to see which number is greater than the other \n",
    "two. Here is what we need to do:\n",
    "\n",
    "1. Define a function that has three input parameters, num1, num2, and num3\n",
    "2. Test if num1 is greater than the other two numbers\n",
    "3. If so, return num1\n",
    "4. Test if num2 is greater than the other two numbers\n",
    "5. If so, return num2\n",
    "6. Test if num3 is greater than the other two numbers\n",
    "7. If so, return num3\n",
    "8. If there was a tie between the two largest numbers, then return \"It's a tie!\""
   ]
  },
  {
   "cell_type": "code",
   "execution_count": 5,
   "id": "64f2ae75",
   "metadata": {},
   "outputs": [
    {
     "name": "stdout",
     "output_type": "stream",
     "text": [
      "10\n",
      "5\n",
      "-5\n",
      "It's a tie!\n"
     ]
    }
   ],
   "source": [
    "def max_num(num1, num2, num3):\n",
    "  if(num1 > num2 and num1 > num3):\n",
    "    return num1\n",
    "  if(num2 > num1 and num2 > num3):\n",
    "    return num2\n",
    "  if(num3 > num1 and num3 > num2):\n",
    "    return num3\n",
    "  else:\n",
    "    return \"It's a tie!\"  \n",
    "\n",
    "\n",
    "print(max_num(-10, 0, 10))\n",
    "print(max_num(-10, 5, -30))\n",
    "print(max_num(-5, -10, -10))\n",
    "print(max_num(2, 3, 3))"
   ]
  },
  {
   "cell_type": "code",
   "execution_count": null,
   "id": "bf28e863",
   "metadata": {},
   "outputs": [],
   "source": []
  }
 ],
 "metadata": {
  "kernelspec": {
   "display_name": "Python 3 (ipykernel)",
   "language": "python",
   "name": "python3"
  },
  "language_info": {
   "codemirror_mode": {
    "name": "ipython",
    "version": 3
   },
   "file_extension": ".py",
   "mimetype": "text/x-python",
   "name": "python",
   "nbconvert_exporter": "python",
   "pygments_lexer": "ipython3",
   "version": "3.9.12"
  }
 },
 "nbformat": 4,
 "nbformat_minor": 5
}
