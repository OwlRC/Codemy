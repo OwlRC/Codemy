{
 "cells": [
  {
   "cell_type": "code",
   "execution_count": null,
   "id": "fb160c09",
   "metadata": {},
   "outputs": [],
   "source": [
    "In this challenge, we need to find the indices in two equally sized lists where the numbers match. We will be iterating through \n",
    "both of them at the same time and comparing the values, if the numbers are equal, then we record the index. These are the steps\n",
    "we need to accomplish this:\n",
    "\n",
    "1. Define our function to accept two lists of numbers\n",
    "2. Create a new list to store our matching indices\n",
    "3. Loop through each index to the end of either of our lists\n",
    "4. Within the loop, check if our first list at the current index is equal to the second list at the current index. If so, append \n",
    "the index where they matched\n",
    "5. Return our list of indices"
   ]
  },
  {
   "cell_type": "code",
   "execution_count": null,
   "id": "70422635",
   "metadata": {},
   "outputs": [],
   "source": [
    "Write a function named same_values() that takes two lists of numbers of equal size as parameters.\n",
    "\n",
    "The function should return a list of the indices where the values were equal in lst1 and lst2.\n",
    "\n",
    "For example, the following code should return [0, 2, 3]"
   ]
  },
  {
   "cell_type": "code",
   "execution_count": 4,
   "id": "38b04c90",
   "metadata": {},
   "outputs": [
    {
     "name": "stdout",
     "output_type": "stream",
     "text": [
      "[0, 2, 3]\n"
     ]
    }
   ],
   "source": [
    "def same_values( lst1, lst2):\n",
    "  new_lst = [] \n",
    "  for index in range(len(lst1)):\n",
    "    if lst1[index] == lst2[index]:\n",
    "      new_lst.append(index)\n",
    "  return new_lst\n",
    "\n",
    "print(same_values([5, 1, -10, 3, 3], [5, 10, -10, 3, 5]))"
   ]
  },
  {
   "cell_type": "code",
   "execution_count": null,
   "id": "0b9d5f8f",
   "metadata": {},
   "outputs": [],
   "source": []
  }
 ],
 "metadata": {
  "kernelspec": {
   "display_name": "Python 3 (ipykernel)",
   "language": "python",
   "name": "python3"
  },
  "language_info": {
   "codemirror_mode": {
    "name": "ipython",
    "version": 3
   },
   "file_extension": ".py",
   "mimetype": "text/x-python",
   "name": "python",
   "nbconvert_exporter": "python",
   "pygments_lexer": "ipython3",
   "version": "3.9.12"
  }
 },
 "nbformat": 4,
 "nbformat_minor": 5
}
