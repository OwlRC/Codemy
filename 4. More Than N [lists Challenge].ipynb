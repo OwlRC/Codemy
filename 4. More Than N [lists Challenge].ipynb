{
 "cells": [
  {
   "cell_type": "code",
   "execution_count": null,
   "id": "3f0d3edc",
   "metadata": {},
   "outputs": [],
   "source": [
    "Our factory produces a variety of different flavored snacks and we want to check the number of instances of a certain type. \n",
    "We have a conveyor belt full of different types of snacks represented by different numbers. Our function will accept a list of\n",
    "numbers (representing the type of snack), a number for the second parameter (the type of snack we are looking for), and another\n",
    "number as the third parameter (the maximum number of that type of snack on the conveyor belt). The function will return True if\n",
    "the snack we are searching for appears more times than we provided as our third parameter. These are the steps we need:\n",
    "\n",
    "1. Define the function to accept three parameters, a list of numbers, a number to look for, and a number for the number of \n",
    "instances\n",
    "2. Count the number of occurrences of item (the second parameter) in lst (the first parameter)\n",
    "3. If the number of occurrences is greater than n (the third parameter), return True. Otherwise, return False"
   ]
  },
  {
   "cell_type": "code",
   "execution_count": null,
   "id": "001519e7",
   "metadata": {},
   "outputs": [],
   "source": [
    "Create a function named more_than_n that has three parameters named lst, item, and n.\n",
    "\n",
    "The function should return True if item appears in the list more than n times. The function should return False otherwise."
   ]
  },
  {
   "cell_type": "code",
   "execution_count": 10,
   "id": "1c8ae0fb",
   "metadata": {},
   "outputs": [
    {
     "name": "stdout",
     "output_type": "stream",
     "text": [
      "True\n"
     ]
    }
   ],
   "source": [
    "def more_than_n(lst, item, n):\n",
    "    if lst.count(item) > n:\n",
    "        return True\n",
    "    else:\n",
    "        return False\n",
    "    \n",
    "print(more_than_n([2, 4, 6, 2, 3, 2, 1, 2], 2, 3))"
   ]
  },
  {
   "cell_type": "code",
   "execution_count": null,
   "id": "5beacb98",
   "metadata": {},
   "outputs": [],
   "source": []
  }
 ],
 "metadata": {
  "kernelspec": {
   "display_name": "Python 3 (ipykernel)",
   "language": "python",
   "name": "python3"
  },
  "language_info": {
   "codemirror_mode": {
    "name": "ipython",
    "version": 3
   },
   "file_extension": ".py",
   "mimetype": "text/x-python",
   "name": "python",
   "nbconvert_exporter": "python",
   "pygments_lexer": "ipython3",
   "version": "3.9.12"
  }
 },
 "nbformat": 4,
 "nbformat_minor": 5
}
