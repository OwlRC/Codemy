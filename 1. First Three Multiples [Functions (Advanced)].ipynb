{
 "cells": [
  {
   "cell_type": "code",
   "execution_count": null,
   "id": "c3424d81",
   "metadata": {},
   "outputs": [],
   "source": [
    "Let’s start by creating a function which both prints and returns values. For this function, we are going to print out the first \n",
    "three multiples of a number and return the third multiple. This means that we are going to print 1, 2, and 3 times the input\n",
    "number and then return the value of 3 times the input number. For this, we are going to need a few steps:\n",
    "\n",
    "1. Define the function header to accept one input parameter called num\n",
    "2. Print out 1 times num\n",
    "3. Print out 2 times num\n",
    "4. Print out 3 times num\n",
    "5. Return the value of 3 times num"
   ]
  },
  {
   "cell_type": "code",
   "execution_count": null,
   "id": "5c2fb8ca",
   "metadata": {},
   "outputs": [],
   "source": [
    "Write a function named first_three_multiples() that has one parameter named num.\n",
    "\n",
    "This function should print the first three multiples of num. Then, it should return the third multiple.\n",
    "\n",
    "For example, first_three_multiples(7) should print 7, 14, and 21 on three different lines, and return 21."
   ]
  },
  {
   "cell_type": "code",
   "execution_count": 10,
   "id": "748ef347",
   "metadata": {},
   "outputs": [
    {
     "name": "stdout",
     "output_type": "stream",
     "text": [
      "10\n",
      "20\n",
      "30\n",
      "0\n",
      "0\n",
      "0\n"
     ]
    },
    {
     "data": {
      "text/plain": [
       "0"
      ]
     },
     "execution_count": 10,
     "metadata": {},
     "output_type": "execute_result"
    }
   ],
   "source": [
    "def first_three_multiples(num):\n",
    "  print(num)\n",
    "  print(2 * num)\n",
    "  print(3 * num)\n",
    "  return (3 * num)\n",
    "\n",
    "first_three_multiples(10)\n",
    "# should print 10, 20, 30, and return 30\n",
    "first_three_multiples(0)\n",
    "# should print 0, 0, 0, and return 0"
   ]
  },
  {
   "cell_type": "code",
   "execution_count": null,
   "id": "579867f4",
   "metadata": {},
   "outputs": [],
   "source": []
  }
 ],
 "metadata": {
  "kernelspec": {
   "display_name": "Python 3 (ipykernel)",
   "language": "python",
   "name": "python3"
  },
  "language_info": {
   "codemirror_mode": {
    "name": "ipython",
    "version": 3
   },
   "file_extension": ".py",
   "mimetype": "text/x-python",
   "name": "python",
   "nbconvert_exporter": "python",
   "pygments_lexer": "ipython3",
   "version": "3.9.12"
  }
 },
 "nbformat": 4,
 "nbformat_minor": 5
}
