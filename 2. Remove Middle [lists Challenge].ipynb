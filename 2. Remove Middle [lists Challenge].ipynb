{
 "cells": [
  {
   "cell_type": "code",
   "execution_count": null,
   "id": "de763c98",
   "metadata": {},
   "outputs": [],
   "source": [
    "Our next function will remove all elements from a list with an index within a certain range. The function will accept a list, a\n",
    "starting index, and an ending index. All elements with an index between the starting and ending index should be removed from \n",
    "the list. Here are the steps:\n",
    "\n",
    "1. Define the function to accept three parameters: the list, the starting index, and the ending index\n",
    "2. Get all elements before the starting index\n",
    "3. Get all elements after the ending index\n",
    "4. Combine the two partial lists into the result\n",
    "5. Return the result"
   ]
  },
  {
   "cell_type": "code",
   "execution_count": null,
   "id": "72d4244d",
   "metadata": {},
   "outputs": [],
   "source": [
    "Create a function named remove_middle which has three parameters named lst, start, and end.\n",
    "\n",
    "The function should return a list where all elements in lst with an index between start and end (inclusive) have been removed.\n",
    "\n",
    "For example, the following code should return [4, 23, 42] because elements at indices 1, 2, and 3 have been removed:\n",
    "remove_middle([4, 8 , 15, 16, 23, 42], 1, 3)\n"
   ]
  },
  {
   "cell_type": "code",
   "execution_count": 3,
   "id": "64d5dce3",
   "metadata": {},
   "outputs": [
    {
     "name": "stdout",
     "output_type": "stream",
     "text": [
      "[4, 23, 42]\n"
     ]
    }
   ],
   "source": [
    "def remove_middle(lst, start, end):\n",
    "    return lst[:start] + lst[end+1:]\n",
    "\n",
    "print(remove_middle([4, 8, 15, 16, 23, 42], 1, 3))"
   ]
  },
  {
   "cell_type": "code",
   "execution_count": null,
   "id": "1803f07f",
   "metadata": {},
   "outputs": [],
   "source": []
  }
 ],
 "metadata": {
  "kernelspec": {
   "display_name": "Python 3 (ipykernel)",
   "language": "python",
   "name": "python3"
  },
  "language_info": {
   "codemirror_mode": {
    "name": "ipython",
    "version": 3
   },
   "file_extension": ".py",
   "mimetype": "text/x-python",
   "name": "python",
   "nbconvert_exporter": "python",
   "pygments_lexer": "ipython3",
   "version": "3.9.12"
  }
 },
 "nbformat": 4,
 "nbformat_minor": 5
}
